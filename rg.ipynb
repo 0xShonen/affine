{
 "cells": [
  {
   "cell_type": "code",
   "execution_count": null,
   "metadata": {},
   "outputs": [],
   "source": [
    "import reasoning_gym as rg"
   ]
  },
  {
   "cell_type": "code",
   "execution_count": 31,
   "metadata": {},
   "outputs": [
    {
     "name": "stdout",
     "output_type": "stream",
     "text": [
      ".{'question': 'This is a BF (Brainf*ck) computer program. What is the output?\\n\\n>[-]>[-]<>++++++++++[<++++++++++++>-]<-.--------------.++++.+++.+++++++++.<\\n\\nRespond only with the exact output of the program.', 'answer': 'wimpy', 'metadata': {'source_dataset': 'bf', 'source_index': 0, 'bfit_code': '\\nint main() {\\n    print(\"wimpy\");\\n}\\n', 'bf_program': '>[-]>[-]<>++++++++++[<++++++++++++>-]<-.--------------.++++.+++.+++++++++.<', 'difficulty': {'difficulty': 1}}}\n",
      ".."
     ]
    },
    {
     "data": {
      "text/plain": [
       "1.0"
      ]
     },
     "execution_count": 31,
     "metadata": {},
     "output_type": "execute_result"
    }
   ],
   "source": [
    "dd = rg.code.BFDataset( rg.code.BFConfig() )\n",
    "print( dd[0])\n",
    "\n",
    "dd.score_answer( dd[0]['answer'], dd[0])"
   ]
  },
  {
   "cell_type": "code",
   "execution_count": 1,
   "metadata": {},
   "outputs": [],
   "source": [
    "import logging\n",
    "from typing import Any, Dict, List, Optional\n",
    "from typing_extensions import Self\n",
    "\n",
    "from pydantic import PrivateAttr\n",
    "import reasoning_gym as rg\n",
    "from affine.llm import LLMClient\n",
    "from affine.environments.base import BaseEnv\n",
    "\n",
    "logger = logging.getLogger(\"tool\")\n",
    "\n",
    "class CMPLX(BaseEnv):\n",
    "    _gym: rg.algebra.complex_arithmetic.ComplexArithmeticDataset = PrivateAttr()\n",
    "\n",
    "    def __init__(self, **data):\n",
    "        super().__init__(**data)\n",
    "        self._gym = rg.algebra.complex_arithmetic.ComplexArithmeticDataset(\n",
    "            rg.algebra.complex_arithmetic.ComplexArithmeticConfig()\n",
    "        )\n",
    "\n",
    "    async def generate_question(self, llm_client: Optional[LLMClient] = None) -> str:\n",
    "        question_data = self._gym[0]\n",
    "        return question_data[\"question\"]\n",
    "    \n",
    "    async def verify(\n",
    "        self,\n",
    "        question: str,\n",
    "        response: str,\n",
    "        llm_client: Optional[LLMClient] = None\n",
    "    ) -> Dict[str, Any]:\n",
    "        score = self._gym.score_answer(self._gym.parse_string_to_complex(response), self._gym[0])\n",
    "        return {\"score\": score}"
   ]
  },
  {
   "cell_type": "code",
   "execution_count": 27,
   "metadata": {},
   "outputs": [],
   "source": [
    "response = \"Okay, let's subtract the complex numbers:\\n\\n(1.0 + 2.0i) - (-9.0 + 6.0i)\\n\\nTo subtract complex numbers, we subtract the real parts and the imaginary parts separately:\\n\\nReal part: 1.0 - (-9.0) = 1.0 + 9.0 = 10.0\\nImaginary part: 2.0i - 6.0i = (2.0 - 6.0)i = -4.0i\\n\\nSo, the result is 10.0 - 4.0i\\n\\nTherefore, (1.0 + 2.0i) - (-9.0 + 6.0i) = **10.0 - 4.0i**\",\n"
   ]
  },
  {
   "cell_type": "code",
   "execution_count": 36,
   "metadata": {},
   "outputs": [],
   "source": [
    "import reasoning_gym\n",
    "data = reasoning_gym.create_dataset('leg_counting', size=100, seed=42)\n",
    "for i, x in enumerate(data):\n",
    "    assert data.score_answer(answer=x['answer'], entry=x) == 1.0"
   ]
  },
  {
   "cell_type": "code",
   "execution_count": 40,
   "metadata": {},
   "outputs": [
    {
     "name": "stdout",
     "output_type": "stream",
     "text": [
      "1.0\n"
     ]
    }
   ],
   "source": [
    "import reasoning_gym as rg\n",
    "\n",
    "gym = rg.arc.ArcAgiDataset(rg.arc.ArcAgiConfig())\n",
    "print( gym.score_answer(  gym[0]['answer'], gym[0]))"
   ]
  },
  {
   "cell_type": "code",
   "execution_count": 46,
   "metadata": {},
   "outputs": [
    {
     "ename": "TypeError",
     "evalue": "'module' object is not callable",
     "output_type": "error",
     "traceback": [
      "\u001b[0;31m---------------------------------------------------------------------------\u001b[0m",
      "\u001b[0;31mTypeError\u001b[0m                                 Traceback (most recent call last)",
      "Cell \u001b[0;32mIn[46], line 3\u001b[0m\n\u001b[1;32m      1\u001b[0m \u001b[38;5;28;01mimport\u001b[39;00m\u001b[38;5;250m \u001b[39m\u001b[38;5;21;01maffine\u001b[39;00m\u001b[38;5;250m \u001b[39m\u001b[38;5;28;01mas\u001b[39;00m\u001b[38;5;250m \u001b[39m\u001b[38;5;21;01maf\u001b[39;00m\n\u001b[0;32m----> 3\u001b[0m \u001b[43maf\u001b[49m\u001b[38;5;241;43m.\u001b[39;49m\u001b[43mrunner\u001b[49m\u001b[43m(\u001b[49m\u001b[43m)\u001b[49m\n",
      "\u001b[0;31mTypeError\u001b[0m: 'module' object is not callable"
     ]
    }
   ],
   "source": [
    "import affine as af\n",
    "\n",
    "af.runner()"
   ]
  },
  {
   "cell_type": "code",
   "execution_count": 11,
   "metadata": {},
   "outputs": [
    {
     "data": {
      "text/plain": [
       "{'score': 0.0}"
      ]
     },
     "execution_count": 11,
     "metadata": {},
     "output_type": "execute_result"
    }
   ],
   "source": [
    "await CMPLX().verify(question=\"Add the complex numbers: (6.0 + 2.0i) + (1.0 + 3.0i)\", response=\"(1.0 + 2.0i) - (-9.0 + 6.0i) = 1.0 + 2.0i + 9.0 - 6.0i\\n= (1.0 + 9.0) + (2.0i - 6.0i)\\n= 10.0 + (-4.0i)\\n= 10.0 - 4.0i\\n\\nSo, the result is 10.0 - 4.0i.\\n\\nFinal Answer: The final answer is $\\\\boxed{'7.0 + 5.0i'}$\")"
   ]
  },
  {
   "cell_type": "code",
   "execution_count": null,
   "metadata": {},
   "outputs": [],
   "source": [
    "await CMPLX().verify()\n",
    "          \"response\": \"(1.0 + 2.0i) - (-9.0 + 6.0i) = 1.0 + 2.0i + 9.0 - 6.0i\\n= (1.0 + 9.0) + (2.0i - 6.0i)\\n= 10.0 + (-4.0i)\\n= 10.0 - 4.0i\\n\\nSo, the result is 10.0 - 4.0i.\\n\\nFinal Answer: The final answer is $\\\\boxed{10.0 - 4.0i}$\",\n"
   ]
  },
  {
   "cell_type": "code",
   "execution_count": 4,
   "metadata": {},
   "outputs": [
    {
     "data": {
      "text/plain": [
       "{'question': 'Add the complex numbers: (6.0 + 2.0i) + (1.0 + 3.0i)',\n",
       " 'answer': '7.0 + 5.0i',\n",
       " 'metadata': {'source_dataset': 'complex_arithmetic',\n",
       "  'source_index': 0,\n",
       "  'num1': (6.0, 2.0),\n",
       "  'num2': (1.0, 3.0),\n",
       "  'operation': '+',\n",
       "  'result': (7, 5),\n",
       "  'difficulty': {'min_real': -10,\n",
       "   'max_real': 10,\n",
       "   'min_imag': -10,\n",
       "   'max_imag': 10,\n",
       "   'operations_weights': [0.4, 0.4, 0.1, 0.1]}}}"
      ]
     },
     "execution_count": 4,
     "metadata": {},
     "output_type": "execute_result"
    }
   ],
   "source": [
    "CMPLX()._gym[0]"
   ]
  },
  {
   "cell_type": "code",
   "execution_count": null,
   "metadata": {},
   "outputs": [],
   "source": [
    "gg = rg.algebra.complex_arithmetic.ComplexArithmeticDataset( rg.algebra.complex_arithmetic.ComplexArithmeticConfig())\n",
    "\n",
    "gg[0]\n"
   ]
  },
  {
   "cell_type": "code",
   "execution_count": null,
   "metadata": {},
   "outputs": [],
   "source": [
    "# print( gg.parse_string_to_complex('6.0 + 4.0i'))\n",
    "gg.score_answer('6.0 + 4.0i' , gg[0])"
   ]
  },
  {
   "cell_type": "code",
   "execution_count": null,
   "metadata": {},
   "outputs": [],
   "source": [
    "import affine as af\n",
    "af.llm.LLMClient( af.llm.)\n",
    "gg[0]"
   ]
  },
  {
   "cell_type": "code",
   "execution_count": null,
   "metadata": {},
   "outputs": [],
   "source": []
  }
 ],
 "metadata": {
  "kernelspec": {
   "display_name": ".venv",
   "language": "python",
   "name": "python3"
  },
  "language_info": {
   "codemirror_mode": {
    "name": "ipython",
    "version": 3
   },
   "file_extension": ".py",
   "mimetype": "text/x-python",
   "name": "python",
   "nbconvert_exporter": "python",
   "pygments_lexer": "ipython3",
   "version": "3.10.15"
  }
 },
 "nbformat": 4,
 "nbformat_minor": 2
}
