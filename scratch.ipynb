{
 "cells": [
  {
   "cell_type": "code",
   "execution_count": 3,
   "metadata": {},
   "outputs": [
    {
     "data": {
      "text/html": [
       "<pre style=\"white-space:pre;overflow-x:auto;line-height:normal;font-family:Menlo,'DejaVu Sans Mono',consolas,'Courier New',monospace\"><span style=\"color: #7fbfbf; text-decoration-color: #7fbfbf\">2025-06-18 13:45:14 </span><span style=\"color: #000080; text-decoration-color: #000080\">INFO    </span> Enabling default logging <span style=\"font-weight: bold\">(</span>Warning level<span style=\"font-weight: bold\">)</span>                                              \n",
       "</pre>\n"
      ],
      "text/plain": [
       "\u001b[2;36m2025-06-18 13:45:14\u001b[0m\u001b[2;36m \u001b[0m\u001b[34mINFO    \u001b[0m Enabling default logging \u001b[1m(\u001b[0mWarning level\u001b[1m)\u001b[0m                                              \n"
      ]
     },
     "metadata": {},
     "output_type": "display_data"
    },
    {
     "name": "stdout",
     "output_type": "stream",
     "text": [
      "\u001b[34m2025-06-18 13:45:14.308\u001b[39m | \u001b[1m\u001b[37m      INFO      \u001b[0m | Enabling default logging (Warning level)\n"
     ]
    }
   ],
   "source": [
    "import bittensor as bt"
   ]
  },
  {
   "cell_type": "code",
   "execution_count": 1,
   "metadata": {},
   "outputs": [],
   "source": [
    "import affine as af"
   ]
  },
  {
   "cell_type": "code",
   "execution_count": 9,
   "metadata": {},
   "outputs": [
    {
     "data": {
      "text/html": [
       "<pre style=\"white-space:pre;overflow-x:auto;line-height:normal;font-family:Menlo,'DejaVu Sans Mono',consolas,'Courier New',monospace\"></pre>\n"
      ],
      "text/plain": []
     },
     "metadata": {},
     "output_type": "display_data"
    },
    {
     "data": {
      "application/vnd.jupyter.widget-view+json": {
       "model_id": "7e3b9bf1b411406d952013a43c991aa3",
       "version_major": 2,
       "version_minor": 0
      },
      "text/plain": [
       "Output()"
      ]
     },
     "metadata": {},
     "output_type": "display_data"
    },
    {
     "data": {
      "text/html": [
       "<pre style=\"white-space:pre;overflow-x:auto;line-height:normal;font-family:Menlo,'DejaVu Sans Mono',consolas,'Courier New',monospace\"></pre>\n"
      ],
      "text/plain": []
     },
     "metadata": {},
     "output_type": "display_data"
    },
    {
     "data": {
      "text/html": [
       "<pre style=\"white-space:pre;overflow-x:auto;line-height:normal;font-family:Menlo,'DejaVu Sans Mono',consolas,'Courier New',monospace\"><span style=\"font-weight: bold\"> Model                  Accuracy  Correct  Incorrect  Total  Avg Latency (s) </span>\n",
       " unsloth/gemma-3-4b-it   56.7%      17        13       30              1.30s \n",
       "</pre>\n"
      ],
      "text/plain": [
       "\u001b[1m \u001b[0m\u001b[1mModel                \u001b[0m\u001b[1m \u001b[0m\u001b[1m \u001b[0m\u001b[1mAccuracy\u001b[0m\u001b[1m \u001b[0m\u001b[1m \u001b[0m\u001b[1mCorrect\u001b[0m\u001b[1m \u001b[0m\u001b[1m \u001b[0m\u001b[1mIncorrect\u001b[0m\u001b[1m \u001b[0m\u001b[1m \u001b[0m\u001b[1mTotal\u001b[0m\u001b[1m \u001b[0m\u001b[1m \u001b[0m\u001b[1mAvg Latency (s)\u001b[0m\u001b[1m \u001b[0m\n",
       " unsloth/gemma-3-4b-it   56.7%      17        13       30              1.30s \n"
      ]
     },
     "metadata": {},
     "output_type": "display_data"
    },
    {
     "data": {
      "text/html": [
       "<pre style=\"white-space:pre;overflow-x:auto;line-height:normal;font-family:Menlo,'DejaVu Sans Mono',consolas,'Courier New',monospace\">Results for unsloth/gemma-<span style=\"color: #008080; text-decoration-color: #008080; font-weight: bold\">3</span>-4b-it saved to results/SAT1/unsloth_gemma-<span style=\"color: #008080; text-decoration-color: #008080; font-weight: bold\">3</span>-4b-it/20250618T123706Z.json\n",
       "</pre>\n"
      ],
      "text/plain": [
       "Results for unsloth/gemma-\u001b[1;36m3\u001b[0m-4b-it saved to results/SAT1/unsloth_gemma-\u001b[1;36m3\u001b[0m-4b-it/20250618T123706Z.json\n"
      ]
     },
     "metadata": {},
     "output_type": "display_data"
    },
    {
     "data": {
      "text/plain": [
       "102"
      ]
     },
     "execution_count": 9,
     "metadata": {},
     "output_type": "execute_result"
    }
   ],
   "source": [
    "import affine as af\n",
    "await af.run(\n",
    "    models=['unsloth/gemma-3-4b-it'],\n",
    "    n = 30,\n",
    "    c = 20,\n",
    "    env = af.environments.SAT1( n= 3, k = 2, m = 3 )\n",
    ")\n",
    "results = af.results( models=['unsloth/gemma-3-4b-it'], env = af.environments.SAT1 )\n",
    "len(results[0])\n"
   ]
  },
  {
   "cell_type": "code",
   "execution_count": 10,
   "metadata": {},
   "outputs": [
    {
     "data": {
      "text/plain": [
       "{'model': 'unsloth/gemma-3-4b-it',\n",
       " 'index': 1,\n",
       " 'question': 'Find a satisfying assignment for the following 2-SAT formula over variables x1..x3:\\n(x3 ∨ ¬x2) ∧ (¬x2 ∨ x3) ∧ (¬x2 ∨ ¬x1)\\nProvide your answer as comma-separated assignments like `x1=True, x2=False, ...`, or respond `UNSAT` if it has no solution.',\n",
       " 'response': 'x1=True, x2=False, x3=True',\n",
       " 'latency_seconds': 1.3673733750038082,\n",
       " 'attempts': 1,\n",
       " 'metrics': {'correct': True,\n",
       "  'expected': {'1': False, '2': False, '3': True},\n",
       "  'extraction': {'1': True, '2': False, '3': True}},\n",
       " 'error': None}"
      ]
     },
     "execution_count": 10,
     "metadata": {},
     "output_type": "execute_result"
    }
   ],
   "source": [
    "results[0][0]"
   ]
  },
  {
   "cell_type": "code",
   "execution_count": 4,
   "metadata": {},
   "outputs": [],
   "source": [
    "import bittensor as bt\n",
    "sub = bt.subtensor()\n",
    "sub.set_reveal_commitment( wallet = bt.wallet(name = 'affine', hotkey = 'M1'), netuid = 120, data=\"unsloth/gemma-3-4b-it\", blocks_until_reveal=1)"
   ]
  },
  {
   "cell_type": "code",
   "execution_count": 6,
   "metadata": {},
   "outputs": [
    {
     "data": {
      "text/plain": [
       "(True, 19148209)"
      ]
     },
     "execution_count": 6,
     "metadata": {},
     "output_type": "execute_result"
    }
   ],
   "source": [
    "sub.set_reveal_commitment( wallet = bt.wallet(name = 'affine', hotkey = 'M1'), netuid = 120, data=\"unsloth/gemma-3-4b-it\", blocks_until_reveal=1)"
   ]
  },
  {
   "cell_type": "code",
   "execution_count": 10,
   "metadata": {},
   "outputs": [],
   "source": []
  },
  {
   "cell_type": "code",
   "execution_count": 22,
   "metadata": {},
   "outputs": [
    {
     "name": "stdout",
     "output_type": "stream",
     "text": [
      "5 unsloth/gemma-3-4b-it\n"
     ]
    }
   ],
   "source": [
    "import bittensor as bt\n",
    "asub = bt.async_subtensor()\n",
    "await asub.initialize()\n",
    "meta = await asub.metagraph(120)\n",
    "reveals = await asub.get_all_revealed_commitments(120)\n",
    "for uid in meta.uids:\n",
    "    hotkey = meta.hotkeys[uid]\n",
    "    try:\n",
    "        block = reveals[hotkey][0][0]\n",
    "        model = reveals[hotkey][0][1]\n",
    "        print (uid, model)\n",
    "    except: \n",
    "        pass"
   ]
  },
  {
   "cell_type": "code",
   "execution_count": 12,
   "metadata": {},
   "outputs": [
    {
     "data": {
      "text/html": [
       "<pre style=\"white-space:pre;overflow-x:auto;line-height:normal;font-family:Menlo,'DejaVu Sans Mono',consolas,'Courier New',monospace\"><span style=\"color: #000080; text-decoration-color: #000080\">INFO    </span> Enabling default logging <span style=\"font-weight: bold\">(</span>Warning level<span style=\"font-weight: bold\">)</span>                                                                  \n",
       "</pre>\n"
      ],
      "text/plain": [
       "\u001b[34mINFO    \u001b[0m Enabling default logging \u001b[1m(\u001b[0mWarning level\u001b[1m)\u001b[0m                                                                  \n"
      ]
     },
     "metadata": {},
     "output_type": "display_data"
    },
    {
     "name": "stdout",
     "output_type": "stream",
     "text": [
      "\u001b[34m2025-06-18 16:10:34.472\u001b[39m | \u001b[1m\u001b[37m      INFO      \u001b[0m | Enabling default logging (Warning level)\n"
     ]
    }
   ],
   "source": [
    "import bittensor as bt\n",
    "asub = bt.async_subtensor()\n",
    "await asub.initialize()\n",
    "reveals = await asub.get_all_revealed_commitments(120)"
   ]
  },
  {
   "cell_type": "code",
   "execution_count": 13,
   "metadata": {},
   "outputs": [
    {
     "data": {
      "text/plain": [
       "{'5H4QM65MVo6WU6MWeyE3spjRonXxascyxGzsCktUWbP8D8Ei': ((5808159,\n",
       "   'Alphatao/Affine-3590802'),\n",
       "  (5808255, 'Alphatao/Affine-6043407'),\n",
       "  (5808343, 'Alphatao/Affine-2922728'),\n",
       "  (5808405, 'Alphatao/Affine-9459823'),\n",
       "  (5808427, 'Alphatao/Affine-9459823'),\n",
       "  (5808453, 'Alphatao/Affine-9459823')),\n",
       " '5Hjnirznzz3rYKodKCR2F2qzXC8ZjwZbUrt8w7CdbcPgYXMV': ((5807815,\n",
       "   'unsloth/gemma-3-4b-it'),)}"
      ]
     },
     "execution_count": 13,
     "metadata": {},
     "output_type": "execute_result"
    }
   ],
   "source": [
    "reveals"
   ]
  },
  {
   "cell_type": "code",
   "execution_count": null,
   "metadata": {},
   "outputs": [],
   "source": []
  }
 ],
 "metadata": {
  "language_info": {
   "name": "python"
  }
 },
 "nbformat": 4,
 "nbformat_minor": 2
}
