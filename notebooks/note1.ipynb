{
 "cells": [
  {
   "cell_type": "code",
   "execution_count": 1,
   "metadata": {},
   "outputs": [
    {
     "name": "stderr",
     "output_type": "stream",
     "text": [
      "/Users/const/AF/affine/.venv/lib/python3.10/site-packages/tqdm/auto.py:21: TqdmWarning: IProgress not found. Please update jupyter and ipywidgets. See https://ipywidgets.readthedocs.io/en/stable/user_install.html\n",
      "  from .autonotebook import tqdm as notebook_tqdm\n"
     ]
    }
   ],
   "source": [
    "import affine as af"
   ]
  },
  {
   "cell_type": "code",
   "execution_count": 2,
   "metadata": {},
   "outputs": [],
   "source": [
    "af.trace()"
   ]
  },
  {
   "cell_type": "code",
   "execution_count": 4,
   "metadata": {},
   "outputs": [
    {
     "name": "stdout",
     "output_type": "stream",
     "text": [
      "n=3 k=2 m=12 1.0\n",
      " 1.0\n",
      " 1.0\n",
      " 1.0\n",
      "n=3 k=2 m=12 1.0\n",
      "n=3 k=2 m=12 1.0\n",
      " 0.8165680473372781\n",
      " 0.0\n",
      " 0.0\n",
      " 1.0\n",
      "n=3 k=2 m=12 1.0\n",
      " 1.0\n",
      " 1.0\n",
      "n=3 k=2 m=12 0.0\n",
      " 0.0\n",
      "n=3 k=2 m=12 0.0\n",
      " 0.0\n",
      " 0.0\n",
      " 1.0\n",
      "n=3 k=2 m=12 1.0\n",
      " 0.23529411764705882\n",
      "n=3 k=2 m=12 1.0\n",
      " 1.0\n",
      " 1.0\n",
      "n=3 k=2 m=12 0.0\n",
      " 0.0\n",
      " 0.0\n",
      " 1.0\n",
      " 1.0\n",
      " 1.0\n",
      "n=3 k=2 m=12 1.0\n",
      "n=3 k=2 m=12 1.0\n",
      "n=3 k=2 m=12 1.0\n",
      " 0.0\n",
      " 0.0\n",
      " 0.0\n",
      "n=3 k=2 m=12 1.0\n",
      " 1.0\n",
      " 1.0\n",
      "n=3 k=2 m=12 0.0\n",
      " 0.0\n",
      " 0.0\n",
      "n=3 k=2 m=12 0.0\n",
      " 0.0\n",
      " 0.0\n",
      " 1.0\n",
      " 1.0\n",
      " 1.0\n",
      "n=3 k=2 m=12 1.0\n",
      "n=3 k=2 m=12 1.0\n",
      " 1.0\n",
      "n=3 k=2 m=12 1.0\n",
      " 0.0\n",
      " 0.0\n",
      "n=3 k=2 m=12 0.0\n",
      " 0.0\n",
      " 0.0\n",
      "n=3 k=2 m=12 1.0\n",
      " 0.0\n",
      " 0.0\n",
      " 0.0\n",
      " 0.0\n",
      "n=3 k=2 m=12 0.0\n"
     ]
    }
   ],
   "source": [
    "async for result in af.dataset(tail=100):\n",
    "    print(result.challenge.env, result.evaluation.score)\n"
   ]
  },
  {
   "cell_type": "code",
   "execution_count": null,
   "metadata": {},
   "outputs": [],
   "source": []
  }
 ],
 "metadata": {
  "kernelspec": {
   "display_name": ".venv",
   "language": "python",
   "name": "python3"
  },
  "language_info": {
   "codemirror_mode": {
    "name": "ipython",
    "version": 3
   },
   "file_extension": ".py",
   "mimetype": "text/x-python",
   "name": "python",
   "nbconvert_exporter": "python",
   "pygments_lexer": "ipython3",
   "version": "3.10.15"
  }
 },
 "nbformat": 4,
 "nbformat_minor": 2
}
