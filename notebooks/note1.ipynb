{
 "cells": [
  {
   "cell_type": "code",
   "execution_count": 1,
   "metadata": {},
   "outputs": [],
   "source": [
    "import affine as af"
   ]
  },
  {
   "cell_type": "code",
   "execution_count": 5,
   "metadata": {},
   "outputs": [
    {
     "data": {
      "text/plain": [
       "{5: Miner(uid=5, hotkey='5Hjnirznzz3rYKodKCR2F2qzXC8ZjwZbUrt8w7CdbcPgYXMV', model='unsloth/gemma-3-4b-it', block=5807815, chute=None)}"
      ]
     },
     "execution_count": 5,
     "metadata": {},
     "output_type": "execute_result"
    }
   ],
   "source": [
    "m5 = await af.miners(5)"
   ]
  },
  {
   "cell_type": "code",
   "execution_count": 8,
   "metadata": {},
   "outputs": [],
   "source": [
    "import os\n",
    "import sys\n",
    "import json\n",
    "import time\n",
    "import click\n",
    "import random\n",
    "import aiohttp\n",
    "import asyncio\n",
    "import bittensor as bt\n",
    "from dotenv import load_dotenv\n",
    "from collections import defaultdict\n",
    "from abc import ABC, abstractmethod\n",
    "from alive_progress import alive_bar\n",
    "from pydantic import BaseModel, Field\n",
    "from typing import Any, Dict, List, Optional, Union\n",
    "\n",
    "async def get_chute(model: str) -> Dict[str, Any]:\n",
    "    api = f\"https://api.chutes.ai/chutes/{model}\"\n",
    "    token = os.getenv(\"CHUTES_API_KEY\", \"\")\n",
    "    hdr = {\"Authorization\": token}\n",
    "\n",
    "    async with aiohttp.ClientSession() as session:\n",
    "        async with session.get(api, headers=hdr) as r:\n",
    "            text = await r.text(errors=\"ignore\")\n",
    "            if r.status != 200:\n",
    "                raise RuntimeError(f\"{r.status}:{text}\")\n",
    "            chute_info =  await r.json()\n",
    "            [chute_info.pop(k, None) for k in ['readme', 'cords', 'tagline', 'instances']]; chute_info.get('image', {}).pop('readme', None)\n",
    "            return chute_info"
   ]
  },
  {
   "cell_type": "code",
   "execution_count": 9,
   "metadata": {},
   "outputs": [
    {
     "data": {
      "text/plain": [
       "{'chute_id': '4d636d79-623c-5688-b57c-264f9e53d85d',\n",
       " 'name': 'unsloth/gemma-3-4b-it',\n",
       " 'public': True,\n",
       " 'version': '8ff77f39-79f4-5aac-b2bd-03e37b7a3556',\n",
       " 'tool_description': None,\n",
       " 'slug': 'chutes-unsloth-gemma-3-4b-it',\n",
       " 'standard_template': 'vllm',\n",
       " 'cord_ref_id': None,\n",
       " 'created_at': '2025-03-12T20:06:51.488258Z',\n",
       " 'updated_at': '2025-05-16T13:15:12.915543Z',\n",
       " 'image': {'image_id': '1075450f-1c30-522e-a58a-3a7c775a008c',\n",
       "  'name': 'sglang',\n",
       "  'tag': '0.4.6.post4',\n",
       "  'public': True,\n",
       "  'status': 'built and pushed',\n",
       "  'created_at': '2025-05-14T16:04:26.948160Z',\n",
       "  'build_started_at': '2025-05-14T16:04:28.960327Z',\n",
       "  'build_completed_at': '2025-05-14T16:24:14.068098Z',\n",
       "  'user': {'username': 'chutes',\n",
       "   'user_id': 'dff3e6bb-3a6b-5a2b-9c48-da3abcd5ca5f',\n",
       "   'logo_id': '24ef9084-7739-400c-aab6-135463a8c2d9',\n",
       "   'created_at': '2024-12-03T11:31:39.181725Z',\n",
       "   'logo': 'https://logos.chutes.ai/logos/24ef9084-7739-400c-aab6-135463a8c2d9.webp'},\n",
       "  'logo_id': None,\n",
       "  'logo': None},\n",
       " 'user': {'username': 'chutes',\n",
       "  'user_id': 'dff3e6bb-3a6b-5a2b-9c48-da3abcd5ca5f',\n",
       "  'logo_id': '24ef9084-7739-400c-aab6-135463a8c2d9',\n",
       "  'created_at': '2024-12-03T11:31:39.181725Z',\n",
       "  'logo': 'https://logos.chutes.ai/logos/24ef9084-7739-400c-aab6-135463a8c2d9.webp'},\n",
       " 'supported_gpus': ['h100',\n",
       "  'h200',\n",
       "  'a6000',\n",
       "  'h800',\n",
       "  'h100_sxm',\n",
       "  'a40',\n",
       "  'h100_nvl',\n",
       "  'a100',\n",
       "  'a6000_ada',\n",
       "  'a100_sxm',\n",
       "  'l40',\n",
       "  'l40s'],\n",
       " 'node_selector': {'exclude': ['b200', 'mi300x'],\n",
       "  'include': None,\n",
       "  'gpu_count': 4,\n",
       "  'supported_gpus': ['h100',\n",
       "   'h200',\n",
       "   'a6000',\n",
       "   'h800',\n",
       "   'h100_sxm',\n",
       "   'a40',\n",
       "   'h100_nvl',\n",
       "   'a100',\n",
       "   'a6000_ada',\n",
       "   'a100_sxm',\n",
       "   'l40',\n",
       "   'l40s'],\n",
       "  'compute_multiplier': 0.27,\n",
       "  'min_vram_gb_per_gpu': 48},\n",
       " 'invocation_count': 3567,\n",
       " 'current_estimated_price': {'per_million_tokens': {'usd': 0.07560000000000001,\n",
       "   'tao': 0.0002222299303738343},\n",
       "  'usd': {'hour': 1.08, 'second': 0.00030000000000000003},\n",
       "  'tao': {'hour': 0.0031747132910547753, 'second': 8.81864803070771e-07}},\n",
       " 'logo_id': '2a38d131-ee27-423a-9183-448f060ddc43',\n",
       " 'openrouter': True,\n",
       " 'chutes_version': '0.2.41',\n",
       " 'logo': 'https://logos.chutes.ai/logos/2a38d131-ee27-423a-9183-448f060ddc43.webp',\n",
       " 'hot': True}"
      ]
     },
     "execution_count": 9,
     "metadata": {},
     "output_type": "execute_result"
    }
   ],
   "source": [
    "await get_chute(  'unsloth/gemma-3-4b-it')"
   ]
  },
  {
   "cell_type": "code",
   "execution_count": null,
   "metadata": {},
   "outputs": [],
   "source": []
  }
 ],
 "metadata": {
  "kernelspec": {
   "display_name": ".venv",
   "language": "python",
   "name": "python3"
  },
  "language_info": {
   "codemirror_mode": {
    "name": "ipython",
    "version": 3
   },
   "file_extension": ".py",
   "mimetype": "text/x-python",
   "name": "python",
   "nbconvert_exporter": "python",
   "pygments_lexer": "ipython3",
   "version": "3.10.15"
  }
 },
 "nbformat": 4,
 "nbformat_minor": 2
}
