{
 "cells": [
  {
   "cell_type": "code",
   "execution_count": 1,
   "metadata": {},
   "outputs": [],
   "source": [
    "import affine as af"
   ]
  },
  {
   "cell_type": "code",
   "execution_count": 2,
   "metadata": {},
   "outputs": [
    {
     "name": "stdout",
     "output_type": "stream",
     "text": [
      "[5, 6]\n"
     ]
    }
   ],
   "source": [
    "import random\n",
    "all_miners = await af.miners(no_null=True)\n",
    "selected_uids = random.sample(list(all_miners.keys()), 2)\n",
    "print (selected_uids)"
   ]
  },
  {
   "cell_type": "code",
   "execution_count": 3,
   "metadata": {},
   "outputs": [
    {
     "name": "stdout",
     "output_type": "stream",
     "text": [
      "uid=5 hotkey='5Hjnirznzz3rYKodKCR2F2qzXC8ZjwZbUrt8w7CdbcPgYXMV' model='unsloth/gemma-3-4b-it' block=5807815 chute={'chute_id': '4d636d79-623c-5688-b57c-264f9e53d85d', 'name': 'unsloth/gemma-3-4b-it', 'public': True, 'version': '8ff77f39-79f4-5aac-b2bd-03e37b7a3556', 'tool_description': None, 'slug': 'chutes-unsloth-gemma-3-4b-it', 'standard_template': 'vllm', 'cord_ref_id': None, 'created_at': '2025-03-12T20:06:51.488258Z', 'updated_at': '2025-05-16T13:15:12.915543Z', 'image': {'image_id': '1075450f-1c30-522e-a58a-3a7c775a008c', 'name': 'sglang', 'tag': '0.4.6.post4', 'public': True, 'status': 'built and pushed', 'created_at': '2025-05-14T16:04:26.948160Z', 'build_started_at': '2025-05-14T16:04:28.960327Z', 'build_completed_at': '2025-05-14T16:24:14.068098Z', 'user': {'username': 'chutes', 'user_id': 'dff3e6bb-3a6b-5a2b-9c48-da3abcd5ca5f', 'logo_id': '24ef9084-7739-400c-aab6-135463a8c2d9', 'created_at': '2024-12-03T11:31:39.181725Z', 'logo': 'https://logos.chutes.ai/logos/24ef9084-7739-400c-aab6-135463a8c2d9.webp'}, 'logo_id': None, 'logo': None}, 'user': {'username': 'chutes', 'user_id': 'dff3e6bb-3a6b-5a2b-9c48-da3abcd5ca5f', 'logo_id': '24ef9084-7739-400c-aab6-135463a8c2d9', 'created_at': '2024-12-03T11:31:39.181725Z', 'logo': 'https://logos.chutes.ai/logos/24ef9084-7739-400c-aab6-135463a8c2d9.webp'}, 'supported_gpus': ['a6000_ada', 'a100_sxm', 'a6000', 'h100_sxm', 'l40', 'h100', 'h100_nvl', 'h800', 'a100', 'l40s', 'a40', 'h200'], 'node_selector': {'exclude': ['b200', 'mi300x'], 'include': None, 'gpu_count': 4, 'supported_gpus': ['a6000_ada', 'a100_sxm', 'a6000', 'h100_sxm', 'l40', 'h100', 'h100_nvl', 'h800', 'a100', 'l40s', 'a40', 'h200'], 'compute_multiplier': 0.27, 'min_vram_gb_per_gpu': 48}, 'invocation_count': 3532, 'current_estimated_price': {'per_million_tokens': {'usd': 0.07560000000000001, 'tao': 0.0002222299303738343}, 'usd': {'hour': 1.08, 'second': 0.00030000000000000003}, 'tao': {'hour': 0.0031747132910547753, 'second': 8.81864803070771e-07}}, 'logo_id': '2a38d131-ee27-423a-9183-448f060ddc43', 'openrouter': True, 'chutes_version': '0.2.41', 'logo': 'https://logos.chutes.ai/logos/2a38d131-ee27-423a-9183-448f060ddc43.webp', 'hot': True} uid=6 hotkey='5H4QM65MVo6WU6MWeyE3spjRonXxascyxGzsCktUWbP8D8Ei' model='Alphatao/Affine-1901852' block=5822543 chute={'chute_id': '770588a6-da18-5237-aff9-761fad8715c8', 'name': 'Alphatao/Affine-1901852', 'public': True, 'version': 'e105f1b0-402f-5505-a4df-3698c7b60769', 'tool_description': None, 'slug': 'affine2-alphatao-affine-1901852', 'standard_template': 'vllm', 'cord_ref_id': None, 'created_at': '2025-06-20T13:06:00.902365Z', 'updated_at': '2025-06-20T13:06:00.902365Z', 'image': {'image_id': '1075450f-1c30-522e-a58a-3a7c775a008c', 'name': 'sglang', 'tag': '0.4.6.post4', 'public': True, 'status': 'built and pushed', 'created_at': '2025-05-14T16:04:26.948160Z', 'build_started_at': '2025-05-14T16:04:28.960327Z', 'build_completed_at': '2025-05-14T16:24:14.068098Z', 'user': {'username': 'chutes', 'user_id': 'dff3e6bb-3a6b-5a2b-9c48-da3abcd5ca5f', 'logo_id': '24ef9084-7739-400c-aab6-135463a8c2d9', 'created_at': '2024-12-03T11:31:39.181725Z', 'logo': 'https://logos.chutes.ai/logos/24ef9084-7739-400c-aab6-135463a8c2d9.webp'}, 'logo_id': None, 'logo': None}, 'user': {'username': 'affine2', 'user_id': 'cd092eeb-9df5-57a9-8f35-17f70dc24804', 'logo_id': None, 'created_at': '2025-06-16T12:50:11.659590Z', 'logo': None}, 'supported_gpus': ['a40', 'a100_40gb_sxm', 'h100', 'h100_sxm', 'a100', 'l40s', 'a6000_ada', 'h200', 'h800', 'a6000', 'l40', 'h100_nvl', 'a100_sxm', 'a100_40gb'], 'node_selector': {'exclude': None, 'include': None, 'gpu_count': 8, 'min_vram_gb_per_gpu': 40, 'compute_multiplier': 0.54, 'supported_gpus': ['a40', 'a100_40gb_sxm', 'h100', 'h100_sxm', 'a100', 'l40s', 'a6000_ada', 'b200', 'h200', 'h800', 'a6000', 'l40', 'h100_nvl', 'a100_sxm', 'a100_40gb', 'mi300x']}, 'invocation_count': 78, 'current_estimated_price': {'per_million_tokens': {'usd': 0.15120000000000003, 'tao': 0.0004444598607476686}, 'usd': {'hour': 2.16, 'second': 0.0006000000000000001}, 'tao': {'hour': 0.006349426582109551, 'second': 1.763729606141542e-06}}, 'logo_id': None, 'openrouter': False, 'chutes_version': '0.2.41', 'logo': None, 'hot': True}\n"
     ]
    }
   ],
   "source": [
    "miner1 = all_miners[selected_uids[0]]\n",
    "miner2 = all_miners[selected_uids[1]]\n",
    "print(miner1, miner2)"
   ]
  },
  {
   "cell_type": "code",
   "execution_count": 5,
   "metadata": {},
   "outputs": [
    {
     "name": "stdout",
     "output_type": "stream",
     "text": [
      "AF |████████████████████████████████████████| 2/2 [100%] in 2:10.6 (0.02/s) \n",
      "[Result(miner=Miner(uid=5, hotkey='5Hjnirznzz3rYKodKCR2F2qzXC8ZjwZbUrt8w7CdbcPgYXMV', model='unsloth/gemma-3-4b-it', block=5807815, chute={'chute_id': '4d636d79-623c-5688-b57c-264f9e53d85d', 'name': 'unsloth/gemma-3-4b-it', 'public': True, 'version': '8ff77f39-79f4-5aac-b2bd-03e37b7a3556', 'tool_description': None, 'slug': 'chutes-unsloth-gemma-3-4b-it', 'standard_template': 'vllm', 'cord_ref_id': None, 'created_at': '2025-03-12T20:06:51.488258Z', 'updated_at': '2025-05-16T13:15:12.915543Z', 'image': {'image_id': '1075450f-1c30-522e-a58a-3a7c775a008c', 'name': 'sglang', 'tag': '0.4.6.post4', 'public': True, 'status': 'built and pushed', 'created_at': '2025-05-14T16:04:26.948160Z', 'build_started_at': '2025-05-14T16:04:28.960327Z', 'build_completed_at': '2025-05-14T16:24:14.068098Z', 'user': {'username': 'chutes', 'user_id': 'dff3e6bb-3a6b-5a2b-9c48-da3abcd5ca5f', 'logo_id': '24ef9084-7739-400c-aab6-135463a8c2d9', 'created_at': '2024-12-03T11:31:39.181725Z', 'logo': 'https://logos.chutes.ai/logos/24ef9084-7739-400c-aab6-135463a8c2d9.webp'}, 'logo_id': None, 'logo': None}, 'user': {'username': 'chutes', 'user_id': 'dff3e6bb-3a6b-5a2b-9c48-da3abcd5ca5f', 'logo_id': '24ef9084-7739-400c-aab6-135463a8c2d9', 'created_at': '2024-12-03T11:31:39.181725Z', 'logo': 'https://logos.chutes.ai/logos/24ef9084-7739-400c-aab6-135463a8c2d9.webp'}, 'supported_gpus': ['a6000_ada', 'a100_sxm', 'a6000', 'h100_sxm', 'l40', 'h100', 'h100_nvl', 'h800', 'a100', 'l40s', 'a40', 'h200'], 'node_selector': {'exclude': ['b200', 'mi300x'], 'include': None, 'gpu_count': 4, 'supported_gpus': ['a6000_ada', 'a100_sxm', 'a6000', 'h100_sxm', 'l40', 'h100', 'h100_nvl', 'h800', 'a100', 'l40s', 'a40', 'h200'], 'compute_multiplier': 0.27, 'min_vram_gb_per_gpu': 48}, 'invocation_count': 3532, 'current_estimated_price': {'per_million_tokens': {'usd': 0.07560000000000001, 'tao': 0.0002222299303738343}, 'usd': {'hour': 1.08, 'second': 0.00030000000000000003}, 'tao': {'hour': 0.0031747132910547753, 'second': 8.81864803070771e-07}}, 'logo_id': '2a38d131-ee27-423a-9183-448f060ddc43', 'openrouter': True, 'chutes_version': '0.2.41', 'logo': 'https://logos.chutes.ai/logos/2a38d131-ee27-423a-9183-448f060ddc43.webp', 'hot': True}), challenge=Challenge(env=SAT(n=3, k=2, m=12), prompt='Find a satisfying assignment for the following 2-SAT formula over variables x1..x3:\\n(x2 ∨ x3) ∧ (¬x2 ∨ ¬x1) ∧ (x3 ∨ ¬x1) ∧ (¬x1 ∨ ¬x2) ∧ (x2 ∨ ¬x3) ∧ (x2 ∨ x3) ∧ (x1 ∨ x2) ∧ (x2 ∨ ¬x3) ∧ (x2 ∨ ¬x1) ∧ (¬x1 ∨ ¬x2) ∧ (¬x1 ∨ ¬x2) ∧ (x2 ∨ x3)\\nProvide your answer as comma-separated assignments like `x1=True, x2=False, ...`, or respond `UNSAT` if it has no solution.', extra={'sol': {1: False, 2: True, 3: True}, 'cls': [[2, 3], [-2, -1], [3, -1], [-1, -2], [2, -3], [2, 3], [1, 2], [2, -3], [2, -1], [-1, -2], [-1, -2], [2, 3]]}), response=Response(response='x1=True, x2=True, x3=True\\n', latency_seconds=1.4956129589991178, attempts=1, model='unsloth/gemma-3-4b-it', error=None), evaluation=Evaluation(env=SAT(n=3, k=2, m=12), score=0.0, extra={'expected': {1: False, 2: True, 3: True}, 'got': {1: True, 2: True, 3: True}})), Result(miner=Miner(uid=6, hotkey='5H4QM65MVo6WU6MWeyE3spjRonXxascyxGzsCktUWbP8D8Ei', model='Alphatao/Affine-1901852', block=5822543, chute={'chute_id': '770588a6-da18-5237-aff9-761fad8715c8', 'name': 'Alphatao/Affine-1901852', 'public': True, 'version': 'e105f1b0-402f-5505-a4df-3698c7b60769', 'tool_description': None, 'slug': 'affine2-alphatao-affine-1901852', 'standard_template': 'vllm', 'cord_ref_id': None, 'created_at': '2025-06-20T13:06:00.902365Z', 'updated_at': '2025-06-20T13:06:00.902365Z', 'image': {'image_id': '1075450f-1c30-522e-a58a-3a7c775a008c', 'name': 'sglang', 'tag': '0.4.6.post4', 'public': True, 'status': 'built and pushed', 'created_at': '2025-05-14T16:04:26.948160Z', 'build_started_at': '2025-05-14T16:04:28.960327Z', 'build_completed_at': '2025-05-14T16:24:14.068098Z', 'user': {'username': 'chutes', 'user_id': 'dff3e6bb-3a6b-5a2b-9c48-da3abcd5ca5f', 'logo_id': '24ef9084-7739-400c-aab6-135463a8c2d9', 'created_at': '2024-12-03T11:31:39.181725Z', 'logo': 'https://logos.chutes.ai/logos/24ef9084-7739-400c-aab6-135463a8c2d9.webp'}, 'logo_id': None, 'logo': None}, 'user': {'username': 'affine2', 'user_id': 'cd092eeb-9df5-57a9-8f35-17f70dc24804', 'logo_id': None, 'created_at': '2025-06-16T12:50:11.659590Z', 'logo': None}, 'supported_gpus': ['a40', 'a100_40gb_sxm', 'h100', 'h100_sxm', 'a100', 'l40s', 'a6000_ada', 'h200', 'h800', 'a6000', 'l40', 'h100_nvl', 'a100_sxm', 'a100_40gb'], 'node_selector': {'exclude': None, 'include': None, 'gpu_count': 8, 'min_vram_gb_per_gpu': 40, 'compute_multiplier': 0.54, 'supported_gpus': ['a40', 'a100_40gb_sxm', 'h100', 'h100_sxm', 'a100', 'l40s', 'a6000_ada', 'b200', 'h200', 'h800', 'a6000', 'l40', 'h100_nvl', 'a100_sxm', 'a100_40gb', 'mi300x']}, 'invocation_count': 78, 'current_estimated_price': {'per_million_tokens': {'usd': 0.15120000000000003, 'tao': 0.0004444598607476686}, 'usd': {'hour': 2.16, 'second': 0.0006000000000000001}, 'tao': {'hour': 0.006349426582109551, 'second': 1.763729606141542e-06}}, 'logo_id': None, 'openrouter': False, 'chutes_version': '0.2.41', 'logo': None, 'hot': True}), challenge=Challenge(env=SAT(n=3, k=2, m=12), prompt='Find a satisfying assignment for the following 2-SAT formula over variables x1..x3:\\n(x2 ∨ x3) ∧ (¬x2 ∨ ¬x1) ∧ (x3 ∨ ¬x1) ∧ (¬x1 ∨ ¬x2) ∧ (x2 ∨ ¬x3) ∧ (x2 ∨ x3) ∧ (x1 ∨ x2) ∧ (x2 ∨ ¬x3) ∧ (x2 ∨ ¬x1) ∧ (¬x1 ∨ ¬x2) ∧ (¬x1 ∨ ¬x2) ∧ (x2 ∨ x3)\\nProvide your answer as comma-separated assignments like `x1=True, x2=False, ...`, or respond `UNSAT` if it has no solution.', extra={'sol': {1: False, 2: True, 3: True}, 'cls': [[2, 3], [-2, -1], [3, -1], [-1, -2], [2, -3], [2, 3], [1, 2], [2, -3], [2, -1], [-1, -2], [-1, -2], [2, 3]]}), response=Response(response=None, latency_seconds=130.6473555410048, attempts=4, model='Alphatao/Affine-1901852', error=''), evaluation=Evaluation(env=SAT(n=3, k=2, m=12), score=0.0, extra={'expected': {1: False, 2: True, 3: True}, 'got': {}}))]\n"
     ]
    }
   ],
   "source": [
    "results = await af.run(\n",
    "    challenges = await af.envs.sat.SAT().many(1),\n",
    "    miners = [miner1, miner2]\n",
    ")\n",
    "print (results)"
   ]
  },
  {
   "cell_type": "code",
   "execution_count": 14,
   "metadata": {},
   "outputs": [],
   "source": [
    "import os\n",
    "import sys\n",
    "import json\n",
    "import time\n",
    "import click\n",
    "import random\n",
    "import aiohttp\n",
    "import asyncio\n",
    "import bittensor as bt\n",
    "from dotenv import load_dotenv\n",
    "from collections import defaultdict\n",
    "from abc import ABC, abstractmethod\n",
    "from alive_progress import alive_bar\n",
    "from pydantic import BaseModel, Field\n",
    "from typing import Any, Dict, List, Optional, Union\n",
    "\n",
    "\n",
    "def get_average_scores(results):\n",
    "    stats = defaultdict(list)\n",
    "    for r in results:\n",
    "        stats[r.miner.uid].append(r.evaluation.score)\n",
    "    return {uid: sum(scores)/len(scores) if scores else 0 for uid, scores in stats.items()}"
   ]
  },
  {
   "cell_type": "code",
   "execution_count": 15,
   "metadata": {},
   "outputs": [
    {
     "data": {
      "text/plain": [
       "{5: 0.0, 6: 0.0}"
      ]
     },
     "execution_count": 15,
     "metadata": {},
     "output_type": "execute_result"
    }
   ],
   "source": [
    "get_average_scores(results)"
   ]
  },
  {
   "cell_type": "code",
   "execution_count": null,
   "metadata": {},
   "outputs": [
    {
     "data": {
      "text/plain": [
       "{5: Miner(uid=5, hotkey='5Hjnirznzz3rYKodKCR2F2qzXC8ZjwZbUrt8w7CdbcPgYXMV', model='unsloth/gemma-3-4b-it', block=5807815, chute=None)}"
      ]
     },
     "execution_count": 5,
     "metadata": {},
     "output_type": "execute_result"
    }
   ],
   "source": [
    "scores: Dict[str, float] = {}\n",
    "    async def step():\n",
    "        all_miners = await miners(no_null=True)\n",
    "        if len(all_miners) < 2:\n",
    "            raise RuntimeError(\"Not enough miners to select 2 unique miners.\")\n",
    "        selected_uids = random.sample(list(all_miners.keys()), 2)\n",
    "        miner1 = all_miners[selected_uids[0]]\n",
    "        miner2 = all_miners[selected_uids[1]]\n",
    "        results = await run(\n",
    "            challenges = SAT().many(1),\n",
    "            miners = [miner1,miner2]\n",
    "        )\n",
    "        scores = []"
   ]
  },
  {
   "cell_type": "code",
   "execution_count": 9,
   "metadata": {},
   "outputs": [
    {
     "data": {
      "text/plain": [
       "{'chute_id': '4d636d79-623c-5688-b57c-264f9e53d85d',\n",
       " 'name': 'unsloth/gemma-3-4b-it',\n",
       " 'public': True,\n",
       " 'version': '8ff77f39-79f4-5aac-b2bd-03e37b7a3556',\n",
       " 'tool_description': None,\n",
       " 'slug': 'chutes-unsloth-gemma-3-4b-it',\n",
       " 'standard_template': 'vllm',\n",
       " 'cord_ref_id': None,\n",
       " 'created_at': '2025-03-12T20:06:51.488258Z',\n",
       " 'updated_at': '2025-05-16T13:15:12.915543Z',\n",
       " 'image': {'image_id': '1075450f-1c30-522e-a58a-3a7c775a008c',\n",
       "  'name': 'sglang',\n",
       "  'tag': '0.4.6.post4',\n",
       "  'public': True,\n",
       "  'status': 'built and pushed',\n",
       "  'created_at': '2025-05-14T16:04:26.948160Z',\n",
       "  'build_started_at': '2025-05-14T16:04:28.960327Z',\n",
       "  'build_completed_at': '2025-05-14T16:24:14.068098Z',\n",
       "  'user': {'username': 'chutes',\n",
       "   'user_id': 'dff3e6bb-3a6b-5a2b-9c48-da3abcd5ca5f',\n",
       "   'logo_id': '24ef9084-7739-400c-aab6-135463a8c2d9',\n",
       "   'created_at': '2024-12-03T11:31:39.181725Z',\n",
       "   'logo': 'https://logos.chutes.ai/logos/24ef9084-7739-400c-aab6-135463a8c2d9.webp'},\n",
       "  'logo_id': None,\n",
       "  'logo': None},\n",
       " 'user': {'username': 'chutes',\n",
       "  'user_id': 'dff3e6bb-3a6b-5a2b-9c48-da3abcd5ca5f',\n",
       "  'logo_id': '24ef9084-7739-400c-aab6-135463a8c2d9',\n",
       "  'created_at': '2024-12-03T11:31:39.181725Z',\n",
       "  'logo': 'https://logos.chutes.ai/logos/24ef9084-7739-400c-aab6-135463a8c2d9.webp'},\n",
       " 'supported_gpus': ['h100',\n",
       "  'h200',\n",
       "  'a6000',\n",
       "  'h800',\n",
       "  'h100_sxm',\n",
       "  'a40',\n",
       "  'h100_nvl',\n",
       "  'a100',\n",
       "  'a6000_ada',\n",
       "  'a100_sxm',\n",
       "  'l40',\n",
       "  'l40s'],\n",
       " 'node_selector': {'exclude': ['b200', 'mi300x'],\n",
       "  'include': None,\n",
       "  'gpu_count': 4,\n",
       "  'supported_gpus': ['h100',\n",
       "   'h200',\n",
       "   'a6000',\n",
       "   'h800',\n",
       "   'h100_sxm',\n",
       "   'a40',\n",
       "   'h100_nvl',\n",
       "   'a100',\n",
       "   'a6000_ada',\n",
       "   'a100_sxm',\n",
       "   'l40',\n",
       "   'l40s'],\n",
       "  'compute_multiplier': 0.27,\n",
       "  'min_vram_gb_per_gpu': 48},\n",
       " 'invocation_count': 3567,\n",
       " 'current_estimated_price': {'per_million_tokens': {'usd': 0.07560000000000001,\n",
       "   'tao': 0.0002222299303738343},\n",
       "  'usd': {'hour': 1.08, 'second': 0.00030000000000000003},\n",
       "  'tao': {'hour': 0.0031747132910547753, 'second': 8.81864803070771e-07}},\n",
       " 'logo_id': '2a38d131-ee27-423a-9183-448f060ddc43',\n",
       " 'openrouter': True,\n",
       " 'chutes_version': '0.2.41',\n",
       " 'logo': 'https://logos.chutes.ai/logos/2a38d131-ee27-423a-9183-448f060ddc43.webp',\n",
       " 'hot': True}"
      ]
     },
     "execution_count": 9,
     "metadata": {},
     "output_type": "execute_result"
    }
   ],
   "source": [
    "await get_chute(  'unsloth/gemma-3-4b-it')"
   ]
  },
  {
   "cell_type": "code",
   "execution_count": null,
   "metadata": {},
   "outputs": [],
   "source": []
  }
 ],
 "metadata": {
  "kernelspec": {
   "display_name": ".venv",
   "language": "python",
   "name": "python3"
  },
  "language_info": {
   "codemirror_mode": {
    "name": "ipython",
    "version": 3
   },
   "file_extension": ".py",
   "mimetype": "text/x-python",
   "name": "python",
   "nbconvert_exporter": "python",
   "pygments_lexer": "ipython3",
   "version": "3.10.15"
  }
 },
 "nbformat": 4,
 "nbformat_minor": 2
}
