{
 "cells": [
  {
   "cell_type": "code",
   "execution_count": 1,
   "metadata": {},
   "outputs": [],
   "source": [
    "import affine as af"
   ]
  },
  {
   "cell_type": "code",
   "execution_count": 19,
   "metadata": {},
   "outputs": [
    {
     "data": {
      "text/plain": [
       "'9.8.2'"
      ]
     },
     "execution_count": 19,
     "metadata": {},
     "output_type": "execute_result"
    }
   ],
   "source": [
    "bt.__version__"
   ]
  },
  {
   "cell_type": "code",
   "execution_count": 20,
   "metadata": {},
   "outputs": [
    {
     "data": {
      "text/plain": [
       "metagraph(netuid:5, n:256, block:6010560, network:finney)"
      ]
     },
     "execution_count": 20,
     "metadata": {},
     "output_type": "execute_result"
    }
   ],
   "source": [
    "import bittensor as bt\n",
    "subtensor = bt.async_subtensor(network='finney')\n",
    "await subtensor.initialize()\n",
    "await subtensor.metagraph( 5)\n"
   ]
  },
  {
   "cell_type": "code",
   "execution_count": 13,
   "metadata": {},
   "outputs": [
    {
     "ename": "ValueError",
     "evalue": "Runtime API Call 'NeuronInfoRuntimeApi.get_neurons_lite' not found in registry",
     "output_type": "error",
     "traceback": [
      "\u001b[0;31m---------------------------------------------------------------------------\u001b[0m",
      "\u001b[0;31mKeyError\u001b[0m                                  Traceback (most recent call last)",
      "File \u001b[0;32m~/AF/affine/.venv/lib/python3.10/site-packages/async_substrate_interface/async_substrate.py:3005\u001b[0m, in \u001b[0;36mAsyncSubstrateInterface.runtime_call\u001b[0;34m(self, api, method, params, block_hash)\u001b[0m\n\u001b[1;32m   3004\u001b[0m \u001b[38;5;28;01mif\u001b[39;00m runtime\u001b[38;5;241m.\u001b[39mmetadata_v15 \u001b[38;5;129;01mis\u001b[39;00m \u001b[38;5;28;01mNone\u001b[39;00m:\n\u001b[0;32m-> 3005\u001b[0m     _ \u001b[38;5;241m=\u001b[39m \u001b[38;5;28;43mself\u001b[39;49m\u001b[38;5;241;43m.\u001b[39;49m\u001b[43mruntime_config\u001b[49m\u001b[38;5;241;43m.\u001b[39;49m\u001b[43mtype_registry\u001b[49m\u001b[43m[\u001b[49m\u001b[38;5;124;43m\"\u001b[39;49m\u001b[38;5;124;43mruntime_api\u001b[39;49m\u001b[38;5;124;43m\"\u001b[39;49m\u001b[43m]\u001b[49m\u001b[43m[\u001b[49m\u001b[43mapi\u001b[49m\u001b[43m]\u001b[49m[\u001b[38;5;124m\"\u001b[39m\u001b[38;5;124mmethods\u001b[39m\u001b[38;5;124m\"\u001b[39m][\n\u001b[1;32m   3006\u001b[0m         method\n\u001b[1;32m   3007\u001b[0m     ]\n\u001b[1;32m   3008\u001b[0m     runtime_api_types \u001b[38;5;241m=\u001b[39m \u001b[38;5;28mself\u001b[39m\u001b[38;5;241m.\u001b[39mruntime_config\u001b[38;5;241m.\u001b[39mtype_registry[\u001b[38;5;124m\"\u001b[39m\u001b[38;5;124mruntime_api\u001b[39m\u001b[38;5;124m\"\u001b[39m][\n\u001b[1;32m   3009\u001b[0m         api\n\u001b[1;32m   3010\u001b[0m     ]\u001b[38;5;241m.\u001b[39mget(\u001b[38;5;124m\"\u001b[39m\u001b[38;5;124mtypes\u001b[39m\u001b[38;5;124m\"\u001b[39m, {})\n",
      "\u001b[0;31mKeyError\u001b[0m: 'NeuronInfoRuntimeApi'",
      "\nDuring handling of the above exception, another exception occurred:\n",
      "\u001b[0;31mValueError\u001b[0m                                Traceback (most recent call last)",
      "Cell \u001b[0;32mIn[13], line 1\u001b[0m\n\u001b[0;32m----> 1\u001b[0m \u001b[38;5;28;01mawait\u001b[39;00m subtensor\u001b[38;5;241m.\u001b[39mmetagraph( \u001b[38;5;241m5\u001b[39m)\n",
      "File \u001b[0;32m~/AF/affine/.venv/lib/python3.10/site-packages/bittensor/core/async_subtensor.py:3441\u001b[0m, in \u001b[0;36mAsyncSubtensor.metagraph\u001b[0;34m(self, netuid, lite, block)\u001b[0m\n\u001b[1;32m   3417\u001b[0m \u001b[38;5;250m\u001b[39m\u001b[38;5;124;03m\"\"\"\u001b[39;00m\n\u001b[1;32m   3418\u001b[0m \u001b[38;5;124;03mReturns a synced metagraph for a specified subnet within the Bittensor network. The metagraph represents the\u001b[39;00m\n\u001b[1;32m   3419\u001b[0m \u001b[38;5;124;03mnetwork's structure, including neuron connections and interactions.\u001b[39;00m\n\u001b[0;32m   (...)\u001b[0m\n\u001b[1;32m   3432\u001b[0m \u001b[38;5;124;03mdecentralized architecture, particularly in relation to neuron interconnectivity and consensus processes.\u001b[39;00m\n\u001b[1;32m   3433\u001b[0m \u001b[38;5;124;03m\"\"\"\u001b[39;00m\n\u001b[1;32m   3434\u001b[0m metagraph \u001b[38;5;241m=\u001b[39m AsyncMetagraph(\n\u001b[1;32m   3435\u001b[0m     network\u001b[38;5;241m=\u001b[39m\u001b[38;5;28mself\u001b[39m\u001b[38;5;241m.\u001b[39mchain_endpoint,\n\u001b[1;32m   3436\u001b[0m     netuid\u001b[38;5;241m=\u001b[39mnetuid,\n\u001b[0;32m   (...)\u001b[0m\n\u001b[1;32m   3439\u001b[0m     subtensor\u001b[38;5;241m=\u001b[39m\u001b[38;5;28mself\u001b[39m,\n\u001b[1;32m   3440\u001b[0m )\n\u001b[0;32m-> 3441\u001b[0m \u001b[38;5;28;01mawait\u001b[39;00m metagraph\u001b[38;5;241m.\u001b[39msync(block\u001b[38;5;241m=\u001b[39mblock, lite\u001b[38;5;241m=\u001b[39mlite, subtensor\u001b[38;5;241m=\u001b[39m\u001b[38;5;28mself\u001b[39m)\n\u001b[1;32m   3443\u001b[0m \u001b[38;5;28;01mreturn\u001b[39;00m metagraph\n",
      "File \u001b[0;32m~/AF/affine/.venv/lib/python3.10/site-packages/bittensor/core/metagraph.py:1419\u001b[0m, in \u001b[0;36mAsyncMetagraph.sync\u001b[0;34m(self, block, lite, subtensor)\u001b[0m\n\u001b[1;32m   1416\u001b[0m     block \u001b[38;5;241m=\u001b[39m \u001b[38;5;28;01mawait\u001b[39;00m subtensor\u001b[38;5;241m.\u001b[39mget_current_block()\n\u001b[1;32m   1418\u001b[0m \u001b[38;5;66;03m# Assign neurons based on 'lite' flag\u001b[39;00m\n\u001b[0;32m-> 1419\u001b[0m \u001b[38;5;28;01mawait\u001b[39;00m \u001b[38;5;28mself\u001b[39m\u001b[38;5;241m.\u001b[39m_assign_neurons(block, lite, subtensor)\n\u001b[1;32m   1421\u001b[0m \u001b[38;5;66;03m# Set attributes for metagraph\u001b[39;00m\n\u001b[1;32m   1422\u001b[0m \u001b[38;5;28mself\u001b[39m\u001b[38;5;241m.\u001b[39m_set_metagraph_attributes(block)\n",
      "File \u001b[0;32m~/AF/affine/.venv/lib/python3.10/site-packages/bittensor/core/metagraph.py:1499\u001b[0m, in \u001b[0;36mAsyncMetagraph._assign_neurons\u001b[0;34m(self, block, lite, subtensor)\u001b[0m\n\u001b[1;32m   1474\u001b[0m \u001b[38;5;250m\u001b[39m\u001b[38;5;124;03m\"\"\"\u001b[39;00m\n\u001b[1;32m   1475\u001b[0m \u001b[38;5;124;03mAssigns neurons to the metagraph based on the provided block number and the lite flag.\u001b[39;00m\n\u001b[1;32m   1476\u001b[0m \n\u001b[0;32m   (...)\u001b[0m\n\u001b[1;32m   1496\u001b[0m \u001b[38;5;124;03m        self._assign_neurons(block, lite, subtensor)\u001b[39;00m\n\u001b[1;32m   1497\u001b[0m \u001b[38;5;124;03m\"\"\"\u001b[39;00m\n\u001b[1;32m   1498\u001b[0m \u001b[38;5;28;01mif\u001b[39;00m lite:\n\u001b[0;32m-> 1499\u001b[0m     \u001b[38;5;28mself\u001b[39m\u001b[38;5;241m.\u001b[39mneurons \u001b[38;5;241m=\u001b[39m \u001b[38;5;28;01mawait\u001b[39;00m subtensor\u001b[38;5;241m.\u001b[39mneurons_lite(block\u001b[38;5;241m=\u001b[39mblock, netuid\u001b[38;5;241m=\u001b[39m\u001b[38;5;28mself\u001b[39m\u001b[38;5;241m.\u001b[39mnetuid)\n\u001b[1;32m   1501\u001b[0m \u001b[38;5;28;01melse\u001b[39;00m:\n\u001b[1;32m   1502\u001b[0m     \u001b[38;5;28mself\u001b[39m\u001b[38;5;241m.\u001b[39mneurons \u001b[38;5;241m=\u001b[39m \u001b[38;5;28;01mawait\u001b[39;00m subtensor\u001b[38;5;241m.\u001b[39mneurons(block\u001b[38;5;241m=\u001b[39mblock, netuid\u001b[38;5;241m=\u001b[39m\u001b[38;5;28mself\u001b[39m\u001b[38;5;241m.\u001b[39mnetuid)\n",
      "File \u001b[0;32m~/AF/affine/.venv/lib/python3.10/site-packages/bittensor/core/async_subtensor.py:3579\u001b[0m, in \u001b[0;36mAsyncSubtensor.neurons_lite\u001b[0;34m(self, netuid, block, block_hash, reuse_block)\u001b[0m\n\u001b[1;32m   3555\u001b[0m \u001b[38;5;28;01masync\u001b[39;00m \u001b[38;5;28;01mdef\u001b[39;00m\u001b[38;5;250m \u001b[39m\u001b[38;5;21mneurons_lite\u001b[39m(\n\u001b[1;32m   3556\u001b[0m     \u001b[38;5;28mself\u001b[39m,\n\u001b[1;32m   3557\u001b[0m     netuid: \u001b[38;5;28mint\u001b[39m,\n\u001b[0;32m   (...)\u001b[0m\n\u001b[1;32m   3560\u001b[0m     reuse_block: \u001b[38;5;28mbool\u001b[39m \u001b[38;5;241m=\u001b[39m \u001b[38;5;28;01mFalse\u001b[39;00m,\n\u001b[1;32m   3561\u001b[0m ) \u001b[38;5;241m-\u001b[39m\u001b[38;5;241m>\u001b[39m \u001b[38;5;28mlist\u001b[39m[NeuronInfoLite]:\n\u001b[1;32m   3562\u001b[0m \u001b[38;5;250m    \u001b[39m\u001b[38;5;124;03m\"\"\"\u001b[39;00m\n\u001b[1;32m   3563\u001b[0m \u001b[38;5;124;03m    Retrieves a list of neurons in a 'lite' format from a specific subnet of the Bittensor network.\u001b[39;00m\n\u001b[1;32m   3564\u001b[0m \u001b[38;5;124;03m    This function provides a streamlined view of the neurons, focusing on key attributes such as stake and network\u001b[39;00m\n\u001b[0;32m   (...)\u001b[0m\n\u001b[1;32m   3577\u001b[0m \u001b[38;5;124;03m    of the network's decentralized structure and neuron dynamics.\u001b[39;00m\n\u001b[1;32m   3578\u001b[0m \u001b[38;5;124;03m    \"\"\"\u001b[39;00m\n\u001b[0;32m-> 3579\u001b[0m     result \u001b[38;5;241m=\u001b[39m \u001b[38;5;28;01mawait\u001b[39;00m \u001b[38;5;28mself\u001b[39m\u001b[38;5;241m.\u001b[39mquery_runtime_api(\n\u001b[1;32m   3580\u001b[0m         runtime_api\u001b[38;5;241m=\u001b[39m\u001b[38;5;124m\"\u001b[39m\u001b[38;5;124mNeuronInfoRuntimeApi\u001b[39m\u001b[38;5;124m\"\u001b[39m,\n\u001b[1;32m   3581\u001b[0m         method\u001b[38;5;241m=\u001b[39m\u001b[38;5;124m\"\u001b[39m\u001b[38;5;124mget_neurons_lite\u001b[39m\u001b[38;5;124m\"\u001b[39m,\n\u001b[1;32m   3582\u001b[0m         params\u001b[38;5;241m=\u001b[39m[netuid],\n\u001b[1;32m   3583\u001b[0m         block\u001b[38;5;241m=\u001b[39mblock,\n\u001b[1;32m   3584\u001b[0m         block_hash\u001b[38;5;241m=\u001b[39mblock_hash,\n\u001b[1;32m   3585\u001b[0m         reuse_block\u001b[38;5;241m=\u001b[39mreuse_block,\n\u001b[1;32m   3586\u001b[0m     )\n\u001b[1;32m   3588\u001b[0m     \u001b[38;5;28;01mif\u001b[39;00m \u001b[38;5;129;01mnot\u001b[39;00m result:\n\u001b[1;32m   3589\u001b[0m         \u001b[38;5;28;01mreturn\u001b[39;00m []\n",
      "File \u001b[0;32m~/AF/affine/.venv/lib/python3.10/site-packages/bittensor/core/async_subtensor.py:702\u001b[0m, in \u001b[0;36mAsyncSubtensor.query_runtime_api\u001b[0;34m(self, runtime_api, method, params, block, block_hash, reuse_block)\u001b[0m\n\u001b[1;32m    700\u001b[0m \u001b[38;5;28;01mif\u001b[39;00m \u001b[38;5;129;01mnot\u001b[39;00m block_hash \u001b[38;5;129;01mand\u001b[39;00m reuse_block:\n\u001b[1;32m    701\u001b[0m     block_hash \u001b[38;5;241m=\u001b[39m \u001b[38;5;28mself\u001b[39m\u001b[38;5;241m.\u001b[39msubstrate\u001b[38;5;241m.\u001b[39mlast_block_hash\n\u001b[0;32m--> 702\u001b[0m result \u001b[38;5;241m=\u001b[39m \u001b[38;5;28;01mawait\u001b[39;00m \u001b[38;5;28mself\u001b[39m\u001b[38;5;241m.\u001b[39msubstrate\u001b[38;5;241m.\u001b[39mruntime_call(\n\u001b[1;32m    703\u001b[0m     runtime_api, method, params, block_hash\n\u001b[1;32m    704\u001b[0m )\n\u001b[1;32m    705\u001b[0m \u001b[38;5;28;01mreturn\u001b[39;00m result\u001b[38;5;241m.\u001b[39mvalue\n",
      "File \u001b[0;32m~/AF/affine/.venv/lib/python3.10/site-packages/async_substrate_interface/async_substrate.py:3028\u001b[0m, in \u001b[0;36mAsyncSubstrateInterface.runtime_call\u001b[0;34m(self, api, method, params, block_hash)\u001b[0m\n\u001b[1;32m   3024\u001b[0m             \u001b[38;5;28;01mreturn\u001b[39;00m \u001b[38;5;28;01mawait\u001b[39;00m \u001b[38;5;28mself\u001b[39m\u001b[38;5;241m.\u001b[39m_do_runtime_call_old(\n\u001b[1;32m   3025\u001b[0m                 api, method, params, block_hash, runtime\u001b[38;5;241m=\u001b[39mruntime\n\u001b[1;32m   3026\u001b[0m             )\n\u001b[1;32m   3027\u001b[0m \u001b[38;5;28;01mexcept\u001b[39;00m \u001b[38;5;167;01mKeyError\u001b[39;00m:\n\u001b[0;32m-> 3028\u001b[0m     \u001b[38;5;28;01mraise\u001b[39;00m \u001b[38;5;167;01mValueError\u001b[39;00m(\u001b[38;5;124mf\u001b[39m\u001b[38;5;124m\"\u001b[39m\u001b[38;5;124mRuntime API Call \u001b[39m\u001b[38;5;124m'\u001b[39m\u001b[38;5;132;01m{\u001b[39;00mapi\u001b[38;5;132;01m}\u001b[39;00m\u001b[38;5;124m.\u001b[39m\u001b[38;5;132;01m{\u001b[39;00mmethod\u001b[38;5;132;01m}\u001b[39;00m\u001b[38;5;124m'\u001b[39m\u001b[38;5;124m not found in registry\u001b[39m\u001b[38;5;124m\"\u001b[39m)\n\u001b[1;32m   3030\u001b[0m \u001b[38;5;28;01mif\u001b[39;00m \u001b[38;5;28misinstance\u001b[39m(params, \u001b[38;5;28mlist\u001b[39m) \u001b[38;5;129;01mand\u001b[39;00m \u001b[38;5;28mlen\u001b[39m(params) \u001b[38;5;241m!=\u001b[39m \u001b[38;5;28mlen\u001b[39m(runtime_call_def[\u001b[38;5;124m\"\u001b[39m\u001b[38;5;124minputs\u001b[39m\u001b[38;5;124m\"\u001b[39m]):\n\u001b[1;32m   3031\u001b[0m     \u001b[38;5;28;01mraise\u001b[39;00m \u001b[38;5;167;01mValueError\u001b[39;00m(\n\u001b[1;32m   3032\u001b[0m         \u001b[38;5;124mf\u001b[39m\u001b[38;5;124m\"\u001b[39m\u001b[38;5;124mNumber of parameter provided (\u001b[39m\u001b[38;5;132;01m{\u001b[39;00m\u001b[38;5;28mlen\u001b[39m(params)\u001b[38;5;132;01m}\u001b[39;00m\u001b[38;5;124m) does not \u001b[39m\u001b[38;5;124m\"\u001b[39m\n\u001b[1;32m   3033\u001b[0m         \u001b[38;5;124mf\u001b[39m\u001b[38;5;124m\"\u001b[39m\u001b[38;5;124mmatch definition \u001b[39m\u001b[38;5;132;01m{\u001b[39;00m\u001b[38;5;28mlen\u001b[39m(runtime_call_def[\u001b[38;5;124m'\u001b[39m\u001b[38;5;124minputs\u001b[39m\u001b[38;5;124m'\u001b[39m])\u001b[38;5;132;01m}\u001b[39;00m\u001b[38;5;124m\"\u001b[39m\n\u001b[1;32m   3034\u001b[0m     )\n",
      "\u001b[0;31mValueError\u001b[0m: Runtime API Call 'NeuronInfoRuntimeApi.get_neurons_lite' not found in registry"
     ]
    }
   ],
   "source": [
    "await subtensor.metagraph( 5)"
   ]
  },
  {
   "cell_type": "code",
   "execution_count": null,
   "metadata": {},
   "outputs": [],
   "source": [
    "import bittensor as bt\n",
    "subtensor = bt.async_subtensor(network='subvortex')\n",
    "await subtensor.initialize()\n",
    "   "
   ]
  },
  {
   "cell_type": "code",
   "execution_count": null,
   "metadata": {},
   "outputs": [],
   "source": []
  },
  {
   "cell_type": "code",
   "execution_count": 27,
   "metadata": {},
   "outputs": [
    {
     "name": "stdout",
     "output_type": "stream",
     "text": [
      "Best submission: g\n"
     ]
    }
   ],
   "source": [
    "from collections import defaultdict\n",
    "\n",
    "def compute_ranks(submissions, env_scores):\n",
    "    \"\"\"\n",
    "    submissions: list of keys/IDs\n",
    "    env_scores: dict e→dict s→score (higher is better but we only care about ordering)\n",
    "    Returns: ranks[e][s] where rank 1 is top performer in env e\n",
    "    \"\"\"\n",
    "    ranks = {}\n",
    "    for e, scores in env_scores.items():\n",
    "        # sort submissions descending by score, break ties arbitrarily\n",
    "        sorted_s = sorted(submissions, key=lambda s: scores[s], reverse=True)\n",
    "        ranks[e] = { s: i+1 for i, s in enumerate(sorted_s) }\n",
    "    return ranks\n",
    "\n",
    "def dominance_counts(submissions, ranks):\n",
    "    \"\"\"\n",
    "    For each submission s, count how many t≠s such that\n",
    "      for ALL envs e: ranks[e][s] < ranks[e][t]\n",
    "    Returns: dict s→count\n",
    "    \"\"\"\n",
    "    envs = list(ranks.keys())\n",
    "    count = defaultdict(int)\n",
    "    for s in submissions:\n",
    "        for t in submissions:\n",
    "            if s == t: continue\n",
    "            # check strict beating in every env\n",
    "            if all(ranks[e][s] < ranks[e][t] for e in envs):\n",
    "                count[s] += 1\n",
    "    return count\n",
    "\n",
    "def find_best(submissions, env_scores):\n",
    "    \"\"\"\n",
    "    Returns the submission with the largest dominance count.\n",
    "    \"\"\"\n",
    "    ranks = compute_ranks(submissions, env_scores)\n",
    "    counts = dominance_counts(submissions, ranks)\n",
    "    # pick s with max count (ties broken arbitrarily or by secondary key)\n",
    "    return max(submissions, key=lambda s: counts[s])\n",
    "\n",
    "# Example usage:\n",
    "subs = [\"a\",\"b\",\"c\",\"d\", \"f\", \"g\"]\n",
    "scores = {\n",
    "    \"SWE\": {\"a\":.9,\"b\":.8,\"c\":.85,\"d\":1.0,\"f\":1.0,\"g\":1.0},\n",
    "    \"POLY\": {\"a\":.7,\"b\":.75,\"c\":.65,\"d\":.3,\"f\":0.1,\"g\":1.0},\n",
    "    \"SYNTH\": {\"a\":.7,\"b\":.75,\"c\":.65,\"d\":.3,\"f\":1.0,\"g\":1.0},\n",
    "}\n",
    "best = find_best(subs, scores)\n",
    "print(\"Best submission:\", best)"
   ]
  },
  {
   "cell_type": "code",
   "execution_count": 30,
   "metadata": {},
   "outputs": [
    {
     "name": "stdout",
     "output_type": "stream",
     "text": [
      "=== Case 1: attacker with NO boost ===\n",
      "Without decoys:\n",
      "  Dominance counts: {'alice': 0, 'bob': 0, 'carol': 0, 'eve': 0}\n",
      "  Winner: alice\n",
      "\n",
      "With 100 decoys:\n",
      "  Dominance counts (excerpt): {'alice': 100, 'bob': 100, 'carol': 100, 'eve': 100, 'decoy1': 99, 'decoy2': 98, 'decoy3': 97}\n",
      "  Winner: alice\n",
      "\n",
      "-- Attack failed. Attacker did not win. --\n",
      "\n",
      "=== Case 2: attacker with small boost (0.02) ===\n",
      "Without decoys:\n",
      "  Dominance counts: {'eve': 1, 'alice': 0, 'bob': 0, 'carol': 0}\n",
      "  Winner: eve\n",
      "\n",
      "With 100 decoys:\n",
      "  Dominance counts (excerpt): {'alice': 100, 'bob': 100, 'carol': 100, 'eve': 101, 'decoy1': 99, 'decoy2': 98, 'decoy3': 97}\n",
      "  Winner: eve\n",
      "\n",
      "-- Attack successful! Attacker became the winner. --\n"
     ]
    }
   ],
   "source": [
    "from collections import defaultdict\n",
    "\n",
    "def compute_ranks(submissions, env_scores):\n",
    "    ranks = {}\n",
    "    for e, scores in env_scores.items():\n",
    "        sorted_s = sorted(submissions, key=lambda s: scores[s], reverse=True)\n",
    "        ranks[e] = { s: i+1 for i, s in enumerate(sorted_s) }\n",
    "    return ranks\n",
    "\n",
    "def dominance_counts(submissions, ranks):\n",
    "    envs = list(ranks.keys())\n",
    "    count = defaultdict(int)\n",
    "    for s in submissions:\n",
    "        for t in submissions:\n",
    "            if s == t:\n",
    "                continue\n",
    "            if all(ranks[e][s] < ranks[e][t] for e in envs):\n",
    "                count[s] += 1\n",
    "    return count\n",
    "\n",
    "def find_best(submissions, env_scores):\n",
    "    ranks = compute_ranks(submissions, env_scores)\n",
    "    counts = dominance_counts(submissions, ranks)\n",
    "    # return both winner and the full count dict\n",
    "    winner = max(submissions, key=lambda s: counts[s])\n",
    "    return winner, counts\n",
    "\n",
    "def simulate(decoy_count=50, attack_boost=0.0):\n",
    "    # Honest field\n",
    "    base_subs = [\"alice\", \"bob\", \"carol\"]\n",
    "    attacker = \"eve\"\n",
    "    subs = base_subs + [attacker]\n",
    "\n",
    "    # Base scores (higher = better)\n",
    "    base_scores = {\n",
    "        \"SWE\":   {\"alice\": .90, \"bob\": .85,  \"carol\": .88,  \"eve\": .89 + attack_boost},\n",
    "        \"POLY\":  {\"alice\": .80, \"bob\": .82,  \"carol\": .83,  \"eve\": .81 + attack_boost},\n",
    "        \"SYNTH\": {\"alice\": .85, \"bob\": .87,  \"carol\": .86,  \"eve\": .84 + attack_boost},\n",
    "    }\n",
    "\n",
    "    # 1) Before decoys\n",
    "    best_before, counts_before = find_best(subs, base_scores)\n",
    "    print(\"Without decoys:\")\n",
    "    print(\"  Dominance counts:\", dict(counts_before))\n",
    "    print(\"  Winner:\", best_before)\n",
    "\n",
    "    # 2) Inject decoys\n",
    "    decoys = [f\"decoy{i}\" for i in range(1, decoy_count + 1)]\n",
    "    subs_all = subs + decoys\n",
    "    # Assign very low scores to each decoy\n",
    "    for env in base_scores:\n",
    "        for d in decoys:\n",
    "            base_scores[env][d] = 0.01\n",
    "\n",
    "    best_after, counts_after = find_best(subs_all, base_scores)\n",
    "    print(f\"\\nWith {decoy_count} decoys:\")\n",
    "    print(\"  Dominance counts (excerpt):\",\n",
    "          {s: counts_after[s] for s in subs + decoys[:3]})\n",
    "    print(\"  Winner:\", best_after)\n",
    "\n",
    "    # 3) Correct success condition\n",
    "    if best_after == attacker:\n",
    "        print(\"\\n-- Attack successful! Attacker became the winner. --\")\n",
    "    else:\n",
    "        print(\"\\n-- Attack failed. Attacker did not win. --\")\n",
    "\n",
    "print(\"=== Case 1: attacker with NO boost ===\")\n",
    "simulate(decoy_count=100, attack_boost=0.0)\n",
    "\n",
    "print(\"\\n=== Case 2: attacker with small boost (0.02) ===\")\n",
    "simulate(decoy_count=100, attack_boost=0.02)\n"
   ]
  },
  {
   "cell_type": "code",
   "execution_count": null,
   "metadata": {},
   "outputs": [],
   "source": []
  }
 ],
 "metadata": {
  "kernelspec": {
   "display_name": ".venv",
   "language": "python",
   "name": "python3"
  },
  "language_info": {
   "codemirror_mode": {
    "name": "ipython",
    "version": 3
   },
   "file_extension": ".py",
   "mimetype": "text/x-python",
   "name": "python",
   "nbconvert_exporter": "python",
   "pygments_lexer": "ipython3",
   "version": "3.10.15"
  }
 },
 "nbformat": 4,
 "nbformat_minor": 2
}
