{
 "cells": [
  {
   "cell_type": "code",
   "execution_count": null,
   "metadata": {},
   "outputs": [
    {
     "name": "stderr",
     "output_type": "stream",
     "text": [
      "/Users/const/AF/affine/.venv/lib/python3.10/site-packages/tqdm/auto.py:21: TqdmWarning: IProgress not found. Please update jupyter and ipywidgets. See https://ipywidgets.readthedocs.io/en/stable/user_install.html\n",
      "  from .autonotebook import tqdm as notebook_tqdm\n"
     ]
    }
   ],
   "source": [
    "import os\n",
    "import json\n",
    "import asyncio\n",
    "import logging\n",
    "from tqdm.asyncio import tqdm\n",
    "from typing import AsyncIterator\n",
    "from pathlib import Path\n",
    "from aiobotocore.session import get_session\n",
    "from botocore.config import Config\n",
    "\n",
    "# Constants\n",
    "WINDOW = int(os.getenv(\"AFFINE_WINDOW\", 20))\n",
    "BUCKET_NAME = \"decis\"\n",
    "REGION = \"us-east-1\"\n",
    "RESULT_PREFIX = \"affine/results/\"\n",
    "INDEX_KEY = \"affine/index.json\"\n",
    "\n",
    "# Local cache\n",
    "_env = os.getenv(\"AFFINE_CACHE_DIR\")\n",
    "CACHE_DIR = Path(_env) if _env else Path.home() / \".cache\" / \"affine\" / \"blocks\"\n",
    "CACHE_DIR.mkdir(parents=True, exist_ok=True)"
   ]
  },
  {
   "cell_type": "code",
   "execution_count": null,
   "metadata": {},
   "outputs": [],
   "source": [
    "def get_client_ctx(public: bool = False):\n",
    "    session = get_session()\n",
    "    config = Config(region_name=REGION)\n",
    "    kwargs = {\n",
    "        \"region_name\": REGION,\n",
    "        \"config\": config\n",
    "    }\n",
    "\n",
    "    if not public:\n",
    "        kwargs |= dict(\n",
    "            aws_access_key_id=os.getenv(\"AWS_ACCESS_KEY_ID\"),\n",
    "            aws_secret_access_key=os.getenv(\"AWS_SECRET_ACCESS_KEY\")\n",
    "        )\n",
    "\n",
    "    return session.create_client(\"s3\", **kwargs)"
   ]
  },
  {
   "cell_type": "code",
   "execution_count": null,
   "metadata": {},
   "outputs": [],
   "source": [
    "get_client_ctx(public=True)"
   ]
  },
  {
   "cell_type": "code",
   "execution_count": null,
   "metadata": {},
   "outputs": [],
   "source": [
    "async def get_index() -> list[str]:\n",
    "    async with get_client_ctx(public=True) as client:\n",
    "        resp = await client.get_object(Bucket=BUCKET_NAME, Key='0/0/test')\n",
    "        data = await resp[\"Body\"].read()\n",
    "    return json.loads(data)\n",
    "\n",
    "await get_index()"
   ]
  },
  {
   "cell_type": "code",
   "execution_count": null,
   "metadata": {},
   "outputs": [],
   "source": []
  },
  {
   "cell_type": "code",
   "execution_count": null,
   "metadata": {},
   "outputs": [],
   "source": []
  }
 ],
 "metadata": {
  "kernelspec": {
   "display_name": ".venv",
   "language": "python",
   "name": "python3"
  },
  "language_info": {
   "codemirror_mode": {
    "name": "ipython",
    "version": 3
   },
   "file_extension": ".py",
   "mimetype": "text/x-python",
   "name": "python",
   "nbconvert_exporter": "python",
   "pygments_lexer": "ipython3",
   "version": "3.10.15"
  }
 },
 "nbformat": 4,
 "nbformat_minor": 2
}
