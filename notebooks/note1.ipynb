{
 "cells": [
  {
   "cell_type": "code",
   "execution_count": 1,
   "metadata": {},
   "outputs": [],
   "source": [
    "import affine as af"
   ]
  },
  {
   "cell_type": "code",
   "execution_count": 4,
   "metadata": {},
   "outputs": [
    {
     "name": "stdout",
     "output_type": "stream",
     "text": [
      "AF |████████████████████████████████████████| 3/3 [100%] in 19.4s (0.16/s) \n"
     ]
    }
   ],
   "source": [
    "import affine as af\n",
    "result = await af.run( challenges = await af.SAT().many(3), miners = await af.miners(5) )"
   ]
  },
  {
   "cell_type": "code",
   "execution_count": 8,
   "metadata": {},
   "outputs": [
    {
     "data": {
      "text/plain": [
       "[Challenge(env=SAT(n=3, k=2, m=12), prompt='Find a satisfying assignment for the following 2-SAT formula over variables x1..x3:\\n(¬x1 ∨ ¬x2) ∧ (¬x1 ∨ x3) ∧ (¬x1 ∨ x3) ∧ (¬x1 ∨ x2) ∧ (¬x3 ∨ ¬x2) ∧ (¬x2 ∨ ¬x1) ∧ (¬x2 ∨ x3) ∧ (¬x2 ∨ x1) ∧ (¬x1 ∨ x3) ∧ (x1 ∨ x3) ∧ (x3 ∨ x1) ∧ (x3 ∨ x2)\\nProvide your answer as comma-separated assignments like `x1=True, x2=False, ...`, or respond `UNSAT` if it has no solution.', extra={'sol': {1: False, 2: False, 3: True}, 'cls': [[-1, -2], [-1, 3], [-1, 3], [-1, 2], [-3, -2], [-2, -1], [-2, 3], [-2, 1], [-1, 3], [1, 3], [3, 1], [3, 2]]}),\n",
       " Challenge(env=SAT(n=3, k=2, m=12), prompt='Find a satisfying assignment for the following 2-SAT formula over variables x1..x3:\\n(x2 ∨ ¬x3) ∧ (¬x2 ∨ x1) ∧ (¬x3 ∨ ¬x1) ∧ (x1 ∨ ¬x2) ∧ (¬x2 ∨ x3) ∧ (¬x3 ∨ ¬x2) ∧ (x3 ∨ ¬x2) ∧ (x1 ∨ x2) ∧ (x1 ∨ ¬x3) ∧ (x1 ∨ x3) ∧ (¬x2 ∨ ¬x3) ∧ (¬x2 ∨ ¬x1)\\nProvide your answer as comma-separated assignments like `x1=True, x2=False, ...`, or respond `UNSAT` if it has no solution.', extra={'sol': {1: True, 2: False, 3: False}, 'cls': [[2, -3], [-2, 1], [-3, -1], [1, -2], [-2, 3], [-3, -2], [3, -2], [1, 2], [1, -3], [1, 3], [-2, -3], [-2, -1]]}),\n",
       " Challenge(env=SAT(n=3, k=2, m=12), prompt='Find a satisfying assignment for the following 2-SAT formula over variables x1..x3:\\n(x2 ∨ ¬x1) ∧ (x3 ∨ x2) ∧ (¬x3 ∨ ¬x2) ∧ (¬x1 ∨ x2) ∧ (x2 ∨ ¬x1) ∧ (x1 ∨ x2) ∧ (x2 ∨ ¬x1) ∧ (¬x1 ∨ x2) ∧ (¬x1 ∨ ¬x2) ∧ (¬x3 ∨ x2) ∧ (x2 ∨ x3) ∧ (x2 ∨ ¬x3)\\nProvide your answer as comma-separated assignments like `x1=True, x2=False, ...`, or respond `UNSAT` if it has no solution.', extra={'sol': {1: False, 2: True, 3: False}, 'cls': [[2, -1], [3, 2], [-3, -2], [-1, 2], [2, -1], [1, 2], [2, -1], [-1, 2], [-1, -2], [-3, 2], [2, 3], [2, -3]]}),\n",
       " Challenge(env=SAT(n=3, k=2, m=12), prompt='Find a satisfying assignment for the following 2-SAT formula over variables x1..x3:\\n(¬x2 ∨ x1) ∧ (x1 ∨ ¬x2) ∧ (¬x1 ∨ ¬x3) ∧ (x1 ∨ ¬x2) ∧ (¬x1 ∨ ¬x3) ∧ (¬x3 ∨ ¬x2) ∧ (x1 ∨ ¬x3) ∧ (¬x3 ∨ ¬x2) ∧ (¬x1 ∨ ¬x3) ∧ (x1 ∨ ¬x2) ∧ (x1 ∨ ¬x2) ∧ (x1 ∨ ¬x2)\\nProvide your answer as comma-separated assignments like `x1=True, x2=False, ...`, or respond `UNSAT` if it has no solution.', extra={'sol': {1: True, 2: False, 3: False}, 'cls': [[-2, 1], [1, -2], [-1, -3], [1, -2], [-1, -3], [-3, -2], [1, -3], [-3, -2], [-1, -3], [1, -2], [1, -2], [1, -2]]}),\n",
       " Challenge(env=SAT(n=3, k=2, m=12), prompt='Find a satisfying assignment for the following 2-SAT formula over variables x1..x3:\\n(x2 ∨ x3) ∧ (¬x1 ∨ ¬x3) ∧ (¬x3 ∨ ¬x1) ∧ (¬x3 ∨ x2) ∧ (x3 ∨ x2) ∧ (¬x2 ∨ ¬x1) ∧ (¬x3 ∨ ¬x1) ∧ (¬x1 ∨ x3) ∧ (¬x3 ∨ x2) ∧ (¬x1 ∨ x2) ∧ (¬x3 ∨ ¬x1) ∧ (¬x3 ∨ ¬x1)\\nProvide your answer as comma-separated assignments like `x1=True, x2=False, ...`, or respond `UNSAT` if it has no solution.', extra={'sol': {1: False, 2: True, 3: False}, 'cls': [[2, 3], [-1, -3], [-3, -1], [-3, 2], [3, 2], [-2, -1], [-3, -1], [-1, 3], [-3, 2], [-1, 2], [-3, -1], [-3, -1]]}),\n",
       " Challenge(env=SAT(n=3, k=2, m=12), prompt='Find a satisfying assignment for the following 2-SAT formula over variables x1..x3:\\n(x2 ∨ ¬x1) ∧ (x3 ∨ x2) ∧ (x1 ∨ x3) ∧ (¬x1 ∨ x2) ∧ (¬x3 ∨ ¬x1) ∧ (¬x1 ∨ x3) ∧ (x3 ∨ x2) ∧ (x1 ∨ x3) ∧ (x2 ∨ x3) ∧ (x2 ∨ x1) ∧ (¬x2 ∨ x3) ∧ (x2 ∨ x3)\\nProvide your answer as comma-separated assignments like `x1=True, x2=False, ...`, or respond `UNSAT` if it has no solution.', extra={'sol': {1: False, 2: True, 3: True}, 'cls': [[2, -1], [3, 2], [1, 3], [-1, 2], [-3, -1], [-1, 3], [3, 2], [1, 3], [2, 3], [2, 1], [-2, 3], [2, 3]]}),\n",
       " Challenge(env=SAT(n=3, k=2, m=12), prompt='Find a satisfying assignment for the following 2-SAT formula over variables x1..x3:\\n(x2 ∨ x3) ∧ (¬x3 ∨ x1) ∧ (¬x2 ∨ x1) ∧ (x3 ∨ ¬x1) ∧ (x3 ∨ ¬x2) ∧ (¬x1 ∨ x3) ∧ (x2 ∨ x1) ∧ (x3 ∨ x1) ∧ (x1 ∨ x3) ∧ (¬x1 ∨ ¬x2) ∧ (¬x2 ∨ x1) ∧ (x1 ∨ ¬x3)\\nProvide your answer as comma-separated assignments like `x1=True, x2=False, ...`, or respond `UNSAT` if it has no solution.', extra={'sol': {1: True, 2: False, 3: True}, 'cls': [[2, 3], [-3, 1], [-2, 1], [3, -1], [3, -2], [-1, 3], [2, 1], [3, 1], [1, 3], [-1, -2], [-2, 1], [1, -3]]}),\n",
       " Challenge(env=SAT(n=3, k=2, m=12), prompt='Find a satisfying assignment for the following 2-SAT formula over variables x1..x3:\\n(x3 ∨ ¬x1) ∧ (x3 ∨ ¬x2) ∧ (x3 ∨ ¬x1) ∧ (x3 ∨ x1) ∧ (¬x2 ∨ ¬x1) ∧ (x3 ∨ ¬x1) ∧ (x1 ∨ x2) ∧ (x3 ∨ ¬x2) ∧ (x1 ∨ x2) ∧ (x3 ∨ ¬x1) ∧ (x3 ∨ x2) ∧ (x3 ∨ x2)\\nProvide your answer as comma-separated assignments like `x1=True, x2=False, ...`, or respond `UNSAT` if it has no solution.', extra={'sol': {1: False, 2: True, 3: True}, 'cls': [[3, -1], [3, -2], [3, -1], [3, 1], [-2, -1], [3, -1], [1, 2], [3, -2], [1, 2], [3, -1], [3, 2], [3, 2]]}),\n",
       " Challenge(env=SAT(n=3, k=2, m=12), prompt='Find a satisfying assignment for the following 2-SAT formula over variables x1..x3:\\n(x3 ∨ x2) ∧ (x2 ∨ ¬x1) ∧ (x2 ∨ x3) ∧ (¬x3 ∨ ¬x1) ∧ (x2 ∨ ¬x1) ∧ (x1 ∨ x2) ∧ (¬x1 ∨ x2) ∧ (x2 ∨ x1) ∧ (¬x1 ∨ ¬x2) ∧ (x2 ∨ x3) ∧ (x3 ∨ x2) ∧ (x3 ∨ ¬x1)\\nProvide your answer as comma-separated assignments like `x1=True, x2=False, ...`, or respond `UNSAT` if it has no solution.', extra={'sol': {1: False, 2: True, 3: True}, 'cls': [[3, 2], [2, -1], [2, 3], [-3, -1], [2, -1], [1, 2], [-1, 2], [2, 1], [-1, -2], [2, 3], [3, 2], [3, -1]]}),\n",
       " Challenge(env=SAT(n=3, k=2, m=12), prompt='Find a satisfying assignment for the following 2-SAT formula over variables x1..x3:\\n(x3 ∨ x1) ∧ (x3 ∨ x1) ∧ (¬x2 ∨ ¬x1) ∧ (¬x1 ∨ x3) ∧ (x1 ∨ x3) ∧ (x3 ∨ x1) ∧ (x3 ∨ ¬x2) ∧ (x2 ∨ x1) ∧ (x2 ∨ ¬x1) ∧ (¬x1 ∨ ¬x3) ∧ (x1 ∨ x2) ∧ (¬x1 ∨ x2)\\nProvide your answer as comma-separated assignments like `x1=True, x2=False, ...`, or respond `UNSAT` if it has no solution.', extra={'sol': {1: False, 2: True, 3: True}, 'cls': [[3, 1], [3, 1], [-2, -1], [-1, 3], [1, 3], [3, 1], [3, -2], [2, 1], [2, -1], [-1, -3], [1, 2], [-1, 2]]})]"
      ]
     },
     "execution_count": 8,
     "metadata": {},
     "output_type": "execute_result"
    }
   ],
   "source": [
    "await af.SAT().many(10)"
   ]
  },
  {
   "cell_type": "code",
   "execution_count": 6,
   "metadata": {},
   "outputs": [
    {
     "data": {
      "text/plain": [
       "Result(miner=Miner(uid=5, hotkey='5Hjnirznzz3rYKodKCR2F2qzXC8ZjwZbUrt8w7CdbcPgYXMV', model='unsloth/gemma-3-4b-it', block=5807815, chute={'chute_id': '4d636d79-623c-5688-b57c-264f9e53d85d', 'name': 'unsloth/gemma-3-4b-it', 'public': True, 'version': '8ff77f39-79f4-5aac-b2bd-03e37b7a3556', 'tool_description': None, 'slug': 'chutes-unsloth-gemma-3-4b-it', 'standard_template': 'vllm', 'cord_ref_id': None, 'created_at': '2025-03-12T20:06:51.488258Z', 'updated_at': '2025-05-16T13:15:12.915543Z', 'image': {'image_id': '1075450f-1c30-522e-a58a-3a7c775a008c', 'name': 'sglang', 'tag': '0.4.6.post4', 'public': True, 'status': 'built and pushed', 'created_at': '2025-05-14T16:04:26.948160Z', 'build_started_at': '2025-05-14T16:04:28.960327Z', 'build_completed_at': '2025-05-14T16:24:14.068098Z', 'user': {'username': 'chutes', 'user_id': 'dff3e6bb-3a6b-5a2b-9c48-da3abcd5ca5f', 'logo_id': '24ef9084-7739-400c-aab6-135463a8c2d9', 'created_at': '2024-12-03T11:31:39.181725Z', 'logo': 'https://logos.chutes.ai/logos/24ef9084-7739-400c-aab6-135463a8c2d9.webp'}, 'logo_id': None, 'logo': None}, 'user': {'username': 'chutes', 'user_id': 'dff3e6bb-3a6b-5a2b-9c48-da3abcd5ca5f', 'logo_id': '24ef9084-7739-400c-aab6-135463a8c2d9', 'created_at': '2024-12-03T11:31:39.181725Z', 'logo': 'https://logos.chutes.ai/logos/24ef9084-7739-400c-aab6-135463a8c2d9.webp'}, 'supported_gpus': ['h100_sxm', 'h200', 'a6000_ada', 'h100_nvl', 'a100_sxm', 'h100', 'h800', 'l40', 'a100', 'a6000', 'l40s', 'a40'], 'node_selector': {'exclude': ['b200', 'mi300x'], 'include': None, 'gpu_count': 4, 'supported_gpus': ['h100_sxm', 'h200', 'a6000_ada', 'h100_nvl', 'a100_sxm', 'h100', 'h800', 'l40', 'a100', 'a6000', 'l40s', 'a40'], 'compute_multiplier': 0.27, 'min_vram_gb_per_gpu': 48}, 'invocation_count': 4724, 'current_estimated_price': {'per_million_tokens': {'usd': 0.07560000000000001, 'tao': 0.000221360400205549}, 'usd': {'hour': 1.08, 'second': 0.00030000000000000003}, 'tao': {'hour': 0.0031622914315078423, 'second': 8.784142865299562e-07}}, 'logo_id': '2a38d131-ee27-423a-9183-448f060ddc43', 'openrouter': True, 'chutes_version': '0.2.41', 'logo': 'https://logos.chutes.ai/logos/2a38d131-ee27-423a-9183-448f060ddc43.webp', 'hot': True}), challenge=Challenge(env=SAT(n=3, k=2, m=12), prompt='Find a satisfying assignment for the following 2-SAT formula over variables x1..x3:\\n(x1 ∨ x3) ∧ (x2 ∨ x1) ∧ (x2 ∨ x1) ∧ (x1 ∨ ¬x2) ∧ (x1 ∨ x3) ∧ (¬x1 ∨ x3) ∧ (¬x3 ∨ ¬x2) ∧ (¬x2 ∨ x3) ∧ (¬x2 ∨ ¬x3) ∧ (x1 ∨ ¬x3) ∧ (¬x1 ∨ x3) ∧ (¬x2 ∨ ¬x3)\\nProvide your answer as comma-separated assignments like `x1=True, x2=False, ...`, or respond `UNSAT` if it has no solution.', extra={'sol': {1: True, 2: False, 3: True}, 'cls': [[1, 3], [2, 1], [2, 1], [1, -2], [1, 3], [-1, 3], [-3, -2], [-2, 3], [-2, -3], [1, -3], [-1, 3], [-2, -3]]}), response=Response(response=\"Let's analyze the 2-SAT formula:\\n(x1 ∨ x3) ∧ (x2 ∨ x1) ∧ (x2 ∨ x1) ∧ (x1 ∨ ¬x2) ∧ (x1 ∨ x3) ∧ (¬x1 ∨ x3) ∧ (¬x3 ∨ ¬x2) ∧ (¬x2 ∨ x3) ∧ (¬x2 ∨ ¬x3) ∧ (x1 ∨ ¬x3) ∧ (¬x1 ∨ x3) ∧ (¬x2 ∨ ¬x3)\\n\\nWe can try to find a satisfying assignment using a brute-force approach or a more sophisticated method like DP-2SAT. Let's start with a simple approach.\\n\\nWe can represent the formula as a set of clauses:\\n1. x1 ∨ x3\\n2. x2 ∨ x1\\n3. x2 ∨ x1\\n4. x1 ∨ ¬x2\\n5. x1 ∨ x3\\n6. ¬x1 ∨ x3\\n7. ¬x3 ∨ ¬x2\\n8. ¬x2 ∨ x3\\n9. ¬x2 ∨ ¬x3\\n10. x1 ∨ ¬x3\\n11. ¬x1 ∨ x3\\n12. ¬x2 ∨ ¬x3\\n\\nLet's try x1 = True.\\nFrom clause 1: True ∨ x3  (always true)\\nFrom clause 2: x2 ∨ True (always true)\\nFrom clause 3: x2 ∨ True (always true)\\nFrom clause 4: True ∨ ¬x2 (always true)\\nFrom clause 5: True ∨ x3 (always true)\\nFrom clause 6: ¬True ∨ x3  =>  False ∨ x3  =>  x3 (so x3 = True)\\nFrom clause 7: ¬True ∨ ¬x2  =>  False ∨ ¬x2  =>  ¬x2 (so x2 = False)\\nFrom clause 8: ¬False ∨ x3  =>  True ∨ x3  =>  True (always true)\\nFrom clause 9: ¬False ∨ ¬x3  =>  True ∨ ¬x3  =>  True (always true)\\nFrom clause 10: True ∨ ¬True  =>  True ∨ False  =>  True (always true)\\nFrom clause 11: ¬True ∨ x3  =>  False ∨ x3  =>  x3 (so x3 = True)\\nFrom clause 12: ¬False ∨ ¬True  =>  True ∨ False  =>  True (always true)\\n\\nSo, x1 = True, x2 = False, x3 = True is a possible assignment.\\n\\nLet's verify the formula with this assignment:\\n1. True ∨ True = True\\n2. False ∨ True = True\\n3. False ∨ True = True\\n4. True ∨ True = True\\n5. True ∨ True = True\\n6. False ∨ True = True\\n7. False ∨ True = True\\n8. True ∨ True = True\\n9. True ∨ False = True\\n10. True ∨ False = True\\n11. False ∨ True = True\\n12. True ∨ False = True\\n\\nAll clauses are satisfied.\\n\\nFinal Answer: The final answer is $\\\\boxed{x1=True, x2=False, x3=True}$\", latency_seconds=9.828643040993484, attempts=1, model='unsloth/gemma-3-4b-it', error=None), evaluation=Evaluation(env=SAT(n=3, k=2, m=12), score=1.0, extra={'expected': {1: True, 2: False, 3: True}, 'got': {1: True, 2: False, 3: True}}))"
      ]
     },
     "execution_count": 6,
     "metadata": {},
     "output_type": "execute_result"
    }
   ],
   "source": [
    "result[0]"
   ]
  },
  {
   "cell_type": "code",
   "execution_count": null,
   "metadata": {},
   "outputs": [],
   "source": []
  }
 ],
 "metadata": {
  "kernelspec": {
   "display_name": ".venv",
   "language": "python",
   "name": "python3"
  },
  "language_info": {
   "codemirror_mode": {
    "name": "ipython",
    "version": 3
   },
   "file_extension": ".py",
   "mimetype": "text/x-python",
   "name": "python",
   "nbconvert_exporter": "python",
   "pygments_lexer": "ipython3",
   "version": "3.10.15"
  }
 },
 "nbformat": 4,
 "nbformat_minor": 2
}
